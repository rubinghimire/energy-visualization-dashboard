{
 "cells": [
  {
   "cell_type": "code",
   "execution_count": null,
   "id": "989d1796-bf2d-446f-815c-a908651ddf0d",
   "metadata": {},
   "outputs": [],
   "source": [
    "import pandas as pd\n",
    "import numpy as np\n",
    "import panel as pn\n",
    "from panel.template import FastListTemplate\n",
    "pn.extension('tabulator')\n",
    "pn.extension(sizing_mode='stretch_width')\n",
    "import hvplot.pandas\n",
    "import holoviews as hv"
   ]
  },
  {
   "cell_type": "code",
   "execution_count": 20,
   "id": "80bb84d6-7d65-4e7f-aa14-bdf75e275fc8",
   "metadata": {},
   "outputs": [],
   "source": [
    "# Cache data to improve performance\n",
    "if 'data' not in pn.state.cache.keys():\n",
    "    df = pd.read_csv('https://nyc3.digitaloceanspaces.com/owid-public/data/energy/owid-energy-data.csv')\n",
    "    pn.state.cache['data'] = df.copy()\n",
    "else: \n",
    "    df = pn.state.cache['data']"
   ]
  },
  {
   "cell_type": "code",
   "execution_count": null,
   "id": "3bfe40e1-a692-4d7a-a898-7218f1b8f562",
   "metadata": {},
   "outputs": [],
   "source": [
    "df.columns"
   ]
  },
  {
   "cell_type": "code",
   "execution_count": 22,
   "id": "104a925c-c6a7-48a8-a434-fb2409c24c48",
   "metadata": {},
   "outputs": [],
   "source": [
    "coal_columns = [col for col in df.columns if col.startswith('coal')]\n",
    "coal_columns"
   ]
  },
  {
   "cell_type": "markdown",
   "id": "827acee7-ece5-475e-bd8b-c1835b9c72fc",
   "metadata": {},
   "source": [
    "### (0) Data preprocessing"
   ]
  },
  {
   "cell_type": "code",
   "execution_count": 23,
   "id": "efbb0de0-e6b0-4a2b-8450-0027493d2034",
   "metadata": {},
   "outputs": [],
   "source": [
    "# Fill NAs with 0s\n",
    "df = df.fillna(0)\n",
    "df['gdp_per_capita'] = np.where(df['population']!=0, df['gdp']/df['population'],0)"
   ]
  },
  {
   "cell_type": "code",
   "execution_count": 24,
   "id": "86651a0a-77f1-495c-9f46-d568b3abefd9",
   "metadata": {},
   "outputs": [],
   "source": [
    "# Make DF pipeline interactive\n",
    "idf = df.interactive()"
   ]
  },
  {
   "cell_type": "markdown",
   "id": "00010e0b-ee6a-45ac-b65c-8199a94de802",
   "metadata": {},
   "source": [
    "### (1) Coal consumption over time by continent"
   ]
  },
  {
   "cell_type": "code",
   "execution_count": 25,
   "id": "812b05ae-c30a-4131-abf4-c734d0ca140b",
   "metadata": {},
   "outputs": [
    {
     "data": {},
     "metadata": {},
     "output_type": "display_data"
    },
    {
     "data": {
      "application/vnd.holoviews_exec.v0+json": "",
      "text/html": [
       "<div id='59f75d4d-398b-4052-af85-a71a02f02987'>\n",
       "  <div id=\"e0dea627-c373-44f2-b702-e6bb0e1714d4\" data-root-id=\"59f75d4d-398b-4052-af85-a71a02f02987\" style=\"display: contents;\"></div>\n",
       "</div>\n",
       "<script type=\"application/javascript\">(function(root) {\n",
       "  var docs_json = {\"a68d1442-d257-492a-9323-a496a2fe988d\":{\"version\":\"3.2.2\",\"title\":\"Bokeh Application\",\"roots\":[{\"type\":\"object\",\"name\":\"Slider\",\"id\":\"59f75d4d-398b-4052-af85-a71a02f02987\",\"attributes\":{\"stylesheets\":[\"\\n:host(.pn-loading.pn-arc):before, .pn-loading.pn-arc:before {\\n  background-image: url(\\\"data:image/svg+xml;base64,PHN2ZyB4bWxucz0iaHR0cDovL3d3dy53My5vcmcvMjAwMC9zdmciIHN0eWxlPSJtYXJnaW46IGF1dG87IGJhY2tncm91bmQ6IG5vbmU7IGRpc3BsYXk6IGJsb2NrOyBzaGFwZS1yZW5kZXJpbmc6IGF1dG87IiB2aWV3Qm94PSIwIDAgMTAwIDEwMCIgcHJlc2VydmVBc3BlY3RSYXRpbz0ieE1pZFlNaWQiPiAgPGNpcmNsZSBjeD0iNTAiIGN5PSI1MCIgZmlsbD0ibm9uZSIgc3Ryb2tlPSIjYzNjM2MzIiBzdHJva2Utd2lkdGg9IjEwIiByPSIzNSIgc3Ryb2tlLWRhc2hhcnJheT0iMTY0LjkzMzYxNDMxMzQ2NDE1IDU2Ljk3Nzg3MTQzNzgyMTM4Ij4gICAgPGFuaW1hdGVUcmFuc2Zvcm0gYXR0cmlidXRlTmFtZT0idHJhbnNmb3JtIiB0eXBlPSJyb3RhdGUiIHJlcGVhdENvdW50PSJpbmRlZmluaXRlIiBkdXI9IjFzIiB2YWx1ZXM9IjAgNTAgNTA7MzYwIDUwIDUwIiBrZXlUaW1lcz0iMDsxIj48L2FuaW1hdGVUcmFuc2Zvcm0+ICA8L2NpcmNsZT48L3N2Zz4=\\\");\\n  background-size: auto calc(min(50%, 400px));\\n}\",{\"type\":\"object\",\"name\":\"ImportedStyleSheet\",\"id\":\"d9da4612-7e58-419b-b9e4-faedd160999f\",\"attributes\":{\"url\":\"https://cdn.holoviz.org/panel/1.2.3/dist/css/loading.css\"}},{\"type\":\"object\",\"name\":\"ImportedStyleSheet\",\"id\":\"e8f97abe-0a6c-4d71-87e2-135b05e99be3\",\"attributes\":{\"url\":\"https://cdn.holoviz.org/panel/1.2.3/dist/bundled/theme/default.css\"}},{\"type\":\"object\",\"name\":\"ImportedStyleSheet\",\"id\":\"c007ab98-8f7e-4909-81ac-b9991719a41e\",\"attributes\":{\"url\":\"https://cdn.holoviz.org/panel/1.2.3/dist/bundled/theme/native.css\"}}],\"margin\":[5,10],\"sizing_mode\":\"stretch_width\",\"align\":\"start\",\"title\":\"Year slider\",\"start\":1960,\"end\":2022,\"value\":1970,\"step\":5}},{\"type\":\"object\",\"name\":\"panel.models.comm_manager.CommManager\",\"id\":\"ec5b3512-507a-4dda-be91-53d7fa930588\",\"attributes\":{\"plot_id\":\"59f75d4d-398b-4052-af85-a71a02f02987\",\"comm_id\":\"db53994c20e64155ae2b986ff9ada7d9\",\"client_comm_id\":\"681fe72cede84ed5a7d04c05f15e717e\"}}],\"defs\":[{\"type\":\"model\",\"name\":\"ReactiveHTML1\"},{\"type\":\"model\",\"name\":\"FlexBox1\",\"properties\":[{\"name\":\"align_content\",\"kind\":\"Any\",\"default\":\"flex-start\"},{\"name\":\"align_items\",\"kind\":\"Any\",\"default\":\"flex-start\"},{\"name\":\"flex_direction\",\"kind\":\"Any\",\"default\":\"row\"},{\"name\":\"flex_wrap\",\"kind\":\"Any\",\"default\":\"wrap\"},{\"name\":\"justify_content\",\"kind\":\"Any\",\"default\":\"flex-start\"}]},{\"type\":\"model\",\"name\":\"FloatPanel1\",\"properties\":[{\"name\":\"config\",\"kind\":\"Any\",\"default\":{\"type\":\"map\"}},{\"name\":\"contained\",\"kind\":\"Any\",\"default\":true},{\"name\":\"position\",\"kind\":\"Any\",\"default\":\"right-top\"},{\"name\":\"offsetx\",\"kind\":\"Any\",\"default\":null},{\"name\":\"offsety\",\"kind\":\"Any\",\"default\":null},{\"name\":\"theme\",\"kind\":\"Any\",\"default\":\"primary\"},{\"name\":\"status\",\"kind\":\"Any\",\"default\":\"normalized\"}]},{\"type\":\"model\",\"name\":\"GridStack1\",\"properties\":[{\"name\":\"mode\",\"kind\":\"Any\",\"default\":\"warn\"},{\"name\":\"ncols\",\"kind\":\"Any\",\"default\":null},{\"name\":\"nrows\",\"kind\":\"Any\",\"default\":null},{\"name\":\"allow_resize\",\"kind\":\"Any\",\"default\":true},{\"name\":\"allow_drag\",\"kind\":\"Any\",\"default\":true},{\"name\":\"state\",\"kind\":\"Any\",\"default\":[]}]},{\"type\":\"model\",\"name\":\"drag1\",\"properties\":[{\"name\":\"slider_width\",\"kind\":\"Any\",\"default\":5},{\"name\":\"slider_color\",\"kind\":\"Any\",\"default\":\"black\"},{\"name\":\"value\",\"kind\":\"Any\",\"default\":50}]},{\"type\":\"model\",\"name\":\"click1\",\"properties\":[{\"name\":\"terminal_output\",\"kind\":\"Any\",\"default\":\"\"},{\"name\":\"debug_name\",\"kind\":\"Any\",\"default\":\"\"},{\"name\":\"clears\",\"kind\":\"Any\",\"default\":0}]},{\"type\":\"model\",\"name\":\"FastWrapper1\",\"properties\":[{\"name\":\"object\",\"kind\":\"Any\",\"default\":null},{\"name\":\"style\",\"kind\":\"Any\",\"default\":null}]},{\"type\":\"model\",\"name\":\"NotificationAreaBase1\",\"properties\":[{\"name\":\"js_events\",\"kind\":\"Any\",\"default\":{\"type\":\"map\"}},{\"name\":\"position\",\"kind\":\"Any\",\"default\":\"bottom-right\"},{\"name\":\"_clear\",\"kind\":\"Any\",\"default\":0}]},{\"type\":\"model\",\"name\":\"NotificationArea1\",\"properties\":[{\"name\":\"js_events\",\"kind\":\"Any\",\"default\":{\"type\":\"map\"}},{\"name\":\"notifications\",\"kind\":\"Any\",\"default\":[]},{\"name\":\"position\",\"kind\":\"Any\",\"default\":\"bottom-right\"},{\"name\":\"_clear\",\"kind\":\"Any\",\"default\":0},{\"name\":\"types\",\"kind\":\"Any\",\"default\":[{\"type\":\"map\",\"entries\":[[\"type\",\"warning\"],[\"background\",\"#ffc107\"],[\"icon\",{\"type\":\"map\",\"entries\":[[\"className\",\"fas fa-exclamation-triangle\"],[\"tagName\",\"i\"],[\"color\",\"white\"]]}]]},{\"type\":\"map\",\"entries\":[[\"type\",\"info\"],[\"background\",\"#007bff\"],[\"icon\",{\"type\":\"map\",\"entries\":[[\"className\",\"fas fa-info-circle\"],[\"tagName\",\"i\"],[\"color\",\"white\"]]}]]}]}]},{\"type\":\"model\",\"name\":\"Notification\",\"properties\":[{\"name\":\"background\",\"kind\":\"Any\",\"default\":null},{\"name\":\"duration\",\"kind\":\"Any\",\"default\":3000},{\"name\":\"icon\",\"kind\":\"Any\",\"default\":null},{\"name\":\"message\",\"kind\":\"Any\",\"default\":\"\"},{\"name\":\"notification_type\",\"kind\":\"Any\",\"default\":null},{\"name\":\"_destroyed\",\"kind\":\"Any\",\"default\":false}]},{\"type\":\"model\",\"name\":\"TemplateActions1\",\"properties\":[{\"name\":\"open_modal\",\"kind\":\"Any\",\"default\":0},{\"name\":\"close_modal\",\"kind\":\"Any\",\"default\":0}]},{\"type\":\"model\",\"name\":\"BootstrapTemplateActions1\",\"properties\":[{\"name\":\"open_modal\",\"kind\":\"Any\",\"default\":0},{\"name\":\"close_modal\",\"kind\":\"Any\",\"default\":0}]},{\"type\":\"model\",\"name\":\"MaterialTemplateActions1\",\"properties\":[{\"name\":\"open_modal\",\"kind\":\"Any\",\"default\":0},{\"name\":\"close_modal\",\"kind\":\"Any\",\"default\":0}]}]}};\n",
       "  var render_items = [{\"docid\":\"a68d1442-d257-492a-9323-a496a2fe988d\",\"roots\":{\"59f75d4d-398b-4052-af85-a71a02f02987\":\"e0dea627-c373-44f2-b702-e6bb0e1714d4\"},\"root_ids\":[\"59f75d4d-398b-4052-af85-a71a02f02987\"]}];\n",
       "  var docs = Object.values(docs_json)\n",
       "  if (!docs) {\n",
       "    return\n",
       "  }\n",
       "  const py_version = docs[0].version.replace('rc', '-rc.').replace('.dev', '-dev.')\n",
       "  const is_dev = py_version.indexOf(\"+\") !== -1 || py_version.indexOf(\"-\") !== -1\n",
       "  function embed_document(root) {\n",
       "    var Bokeh = get_bokeh(root)\n",
       "    Bokeh.embed.embed_items_notebook(docs_json, render_items);\n",
       "    for (const render_item of render_items) {\n",
       "      for (const root_id of render_item.root_ids) {\n",
       "\tconst id_el = document.getElementById(root_id)\n",
       "\tif (id_el.children.length && (id_el.children[0].className === 'bk-root')) {\n",
       "\t  const root_el = id_el.children[0]\n",
       "\t  root_el.id = root_el.id + '-rendered'\n",
       "\t}\n",
       "      }\n",
       "    }\n",
       "  }\n",
       "  function get_bokeh(root) {\n",
       "    if (root.Bokeh === undefined) {\n",
       "      return null\n",
       "    } else if (root.Bokeh.version !== py_version && !is_dev) {\n",
       "      if (root.Bokeh.versions === undefined || !root.Bokeh.versions.has(py_version)) {\n",
       "\treturn null\n",
       "      }\n",
       "      return root.Bokeh.versions.get(py_version);\n",
       "    } else if (root.Bokeh.version === py_version) {\n",
       "      return root.Bokeh\n",
       "    }\n",
       "    return null\n",
       "  }\n",
       "  function is_loaded(root) {\n",
       "    var Bokeh = get_bokeh(root)\n",
       "    return (Bokeh != null && Bokeh.Panel !== undefined && ( root['Tabulator'] !== undefined) && ( root['Tabulator'] !== undefined) && ( root['Tabulator'] !== undefined))\n",
       "  }\n",
       "  if (is_loaded(root)) {\n",
       "    embed_document(root);\n",
       "  } else {\n",
       "    var attempts = 0;\n",
       "    var timer = setInterval(function(root) {\n",
       "      if (is_loaded(root)) {\n",
       "        clearInterval(timer);\n",
       "        embed_document(root);\n",
       "      } else if (document.readyState == \"complete\") {\n",
       "        attempts++;\n",
       "        if (attempts > 200) {\n",
       "          clearInterval(timer);\n",
       "\t  var Bokeh = get_bokeh(root)\n",
       "\t  if (Bokeh == null || Bokeh.Panel == null) {\n",
       "            console.warn(\"Panel: ERROR: Unable to run Panel code because Bokeh or Panel library is missing\");\n",
       "\t  } else {\n",
       "\t    console.warn(\"Panel: WARNING: Attempting to render but not all required libraries could be resolved.\")\n",
       "\t    embed_document(root)\n",
       "\t  }\n",
       "        }\n",
       "      }\n",
       "    }, 25, root)\n",
       "  }\n",
       "})(window);</script>"
      ],
      "text/plain": [
       "IntSlider(end=2022, name='Year slider', sizing_mode='stretch_width', start=1960, step=5, value=1970)"
      ]
     },
     "execution_count": 25,
     "metadata": {
      "application/vnd.holoviews_exec.v0+json": {
       "id": "59f75d4d-398b-4052-af85-a71a02f02987"
      }
     },
     "output_type": "execute_result"
    }
   ],
   "source": [
    "# Define panel widgets\n",
    "year_slider = pn.widgets.IntSlider(name='Year slider', start=1960, end=2022, step=5, value=1970)\n",
    "year_slider"
   ]
  },
  {
   "cell_type": "code",
   "execution_count": 26,
   "id": "08a7ce2b-7078-44c2-9e8a-281b69ffb276",
   "metadata": {},
   "outputs": [],
   "source": [
    "# Radio buttons for coal measures\n",
    "yaxis_coal = pn.widgets.RadioButtonGroup(\n",
    "    name = 'Y axis',\n",
    "    options = ['coal_consumption', 'coal_cons_per_capita'],\n",
    "    button_type = 'success'\n",
    ")"
   ]
  },
  {
   "cell_type": "code",
   "execution_count": 27,
   "id": "abb6b528-2d4e-4893-9138-279e44ec7789",
   "metadata": {},
   "outputs": [],
   "source": [
    "# Connect data pipeline with widgets\n",
    "continents = ['World', 'Asia', 'Oceania', 'Europe', 'Africa', 'North America', 'South America', 'Antarctica']\n",
    "\n",
    "# Create a subset of idf based on specified conditions\n",
    "coal_pipeline = (\n",
    "    idf[\n",
    "        (idf.year >= year_slider) &  # Filter rows for year <= year_slider\n",
    "        (idf.country.isin(continents))\n",
    "    ]\n",
    "    .groupby(['country', 'year','coal_production'])[yaxis_coal].mean() # Average of yaxis_coal for each country over time (year)\n",
    "    .to_frame() # Convert result to df\n",
    "    .reset_index()\n",
    "    .sort_values(by='year')\n",
    "    .reset_index(drop=True) # Discard old index and assign default integer index\n",
    ")"
   ]
  },
  {
   "cell_type": "code",
   "execution_count": 28,
   "id": "24803b5f-9657-4ad2-acd5-32cfc2b4d197",
   "metadata": {
    "scrolled": true
   },
   "outputs": [
    {
     "data": {},
     "metadata": {},
     "output_type": "display_data"
    },
    {
     "data": {
      "application/vnd.holoviews_exec.v0+json": "",
      "text/html": [
       "<div id='7f5baba1-3457-4748-8687-f305d205ace9'>\n",
       "  <div id=\"da506904-6f1f-4f8a-84e0-1c4ac63d8c88\" data-root-id=\"7f5baba1-3457-4748-8687-f305d205ace9\" style=\"display: contents;\"></div>\n",
       "</div>\n",
       "<script type=\"application/javascript\">(function(root) {\n",
       "  var docs_json = {\"b9dc1766-0f95-4e76-b406-b2fed3aca155\":{\"version\":\"3.2.2\",\"title\":\"Bokeh Application\",\"roots\":[{\"type\":\"object\",\"name\":\"Row\",\"id\":\"7f5baba1-3457-4748-8687-f305d205ace9\",\"attributes\":{\"name\":\"Row41969\",\"stylesheets\":[\"\\n:host(.pn-loading.pn-arc):before, .pn-loading.pn-arc:before {\\n  background-image: url(\\\"data:image/svg+xml;base64,PHN2ZyB4bWxucz0iaHR0cDovL3d3dy53My5vcmcvMjAwMC9zdmciIHN0eWxlPSJtYXJnaW46IGF1dG87IGJhY2tncm91bmQ6IG5vbmU7IGRpc3BsYXk6IGJsb2NrOyBzaGFwZS1yZW5kZXJpbmc6IGF1dG87IiB2aWV3Qm94PSIwIDAgMTAwIDEwMCIgcHJlc2VydmVBc3BlY3RSYXRpbz0ieE1pZFlNaWQiPiAgPGNpcmNsZSBjeD0iNTAiIGN5PSI1MCIgZmlsbD0ibm9uZSIgc3Ryb2tlPSIjYzNjM2MzIiBzdHJva2Utd2lkdGg9IjEwIiByPSIzNSIgc3Ryb2tlLWRhc2hhcnJheT0iMTY0LjkzMzYxNDMxMzQ2NDE1IDU2Ljk3Nzg3MTQzNzgyMTM4Ij4gICAgPGFuaW1hdGVUcmFuc2Zvcm0gYXR0cmlidXRlTmFtZT0idHJhbnNmb3JtIiB0eXBlPSJyb3RhdGUiIHJlcGVhdENvdW50PSJpbmRlZmluaXRlIiBkdXI9IjFzIiB2YWx1ZXM9IjAgNTAgNTA7MzYwIDUwIDUwIiBrZXlUaW1lcz0iMDsxIj48L2FuaW1hdGVUcmFuc2Zvcm0+ICA8L2NpcmNsZT48L3N2Zz4=\\\");\\n  background-size: auto calc(min(50%, 400px));\\n}\",{\"type\":\"object\",\"name\":\"ImportedStyleSheet\",\"id\":\"a95f4dab-951a-401d-a68d-e72443d1f118\",\"attributes\":{\"url\":\"https://cdn.holoviz.org/panel/1.2.3/dist/css/loading.css\"}},{\"type\":\"object\",\"name\":\"ImportedStyleSheet\",\"id\":\"d6d5ffb6-101f-473b-9889-2b2d3f2ef9bd\",\"attributes\":{\"url\":\"https://cdn.holoviz.org/panel/1.2.3/dist/css/listpanel.css\"}},{\"type\":\"object\",\"name\":\"ImportedStyleSheet\",\"id\":\"e2556782-cbe4-4522-89ab-0cf88dd4f11b\",\"attributes\":{\"url\":\"https://cdn.holoviz.org/panel/1.2.3/dist/bundled/theme/default.css\"}},{\"type\":\"object\",\"name\":\"ImportedStyleSheet\",\"id\":\"3f857b07-6d9a-4837-8197-ae015e3554ae\",\"attributes\":{\"url\":\"https://cdn.holoviz.org/panel/1.2.3/dist/bundled/theme/native.css\"}}],\"margin\":0,\"sizing_mode\":\"stretch_width\",\"align\":\"start\",\"children\":[{\"type\":\"object\",\"name\":\"panel.models.layout.Column\",\"id\":\"bb53b3a9-6975-41cd-a404-9feb08a34f62\",\"attributes\":{\"name\":\"Column41966\",\"stylesheets\":[\"\\n:host(.pn-loading.pn-arc):before, .pn-loading.pn-arc:before {\\n  background-image: url(\\\"data:image/svg+xml;base64,PHN2ZyB4bWxucz0iaHR0cDovL3d3dy53My5vcmcvMjAwMC9zdmciIHN0eWxlPSJtYXJnaW46IGF1dG87IGJhY2tncm91bmQ6IG5vbmU7IGRpc3BsYXk6IGJsb2NrOyBzaGFwZS1yZW5kZXJpbmc6IGF1dG87IiB2aWV3Qm94PSIwIDAgMTAwIDEwMCIgcHJlc2VydmVBc3BlY3RSYXRpbz0ieE1pZFlNaWQiPiAgPGNpcmNsZSBjeD0iNTAiIGN5PSI1MCIgZmlsbD0ibm9uZSIgc3Ryb2tlPSIjYzNjM2MzIiBzdHJva2Utd2lkdGg9IjEwIiByPSIzNSIgc3Ryb2tlLWRhc2hhcnJheT0iMTY0LjkzMzYxNDMxMzQ2NDE1IDU2Ljk3Nzg3MTQzNzgyMTM4Ij4gICAgPGFuaW1hdGVUcmFuc2Zvcm0gYXR0cmlidXRlTmFtZT0idHJhbnNmb3JtIiB0eXBlPSJyb3RhdGUiIHJlcGVhdENvdW50PSJpbmRlZmluaXRlIiBkdXI9IjFzIiB2YWx1ZXM9IjAgNTAgNTA7MzYwIDUwIDUwIiBrZXlUaW1lcz0iMDsxIj48L2FuaW1hdGVUcmFuc2Zvcm0+ICA8L2NpcmNsZT48L3N2Zz4=\\\");\\n  background-size: auto calc(min(50%, 400px));\\n}\",{\"id\":\"a95f4dab-951a-401d-a68d-e72443d1f118\"},{\"id\":\"d6d5ffb6-101f-473b-9889-2b2d3f2ef9bd\"},{\"id\":\"e2556782-cbe4-4522-89ab-0cf88dd4f11b\"},{\"id\":\"3f857b07-6d9a-4837-8197-ae015e3554ae\"}],\"margin\":0,\"sizing_mode\":\"stretch_width\",\"align\":\"start\",\"children\":[{\"type\":\"object\",\"name\":\"panel.models.layout.Column\",\"id\":\"c36ca2a9-0f6c-48ea-b0d0-b209dd4359ba\",\"attributes\":{\"name\":\"Column41936\",\"stylesheets\":[\"\\n:host(.pn-loading.pn-arc):before, .pn-loading.pn-arc:before {\\n  background-image: url(\\\"data:image/svg+xml;base64,PHN2ZyB4bWxucz0iaHR0cDovL3d3dy53My5vcmcvMjAwMC9zdmciIHN0eWxlPSJtYXJnaW46IGF1dG87IGJhY2tncm91bmQ6IG5vbmU7IGRpc3BsYXk6IGJsb2NrOyBzaGFwZS1yZW5kZXJpbmc6IGF1dG87IiB2aWV3Qm94PSIwIDAgMTAwIDEwMCIgcHJlc2VydmVBc3BlY3RSYXRpbz0ieE1pZFlNaWQiPiAgPGNpcmNsZSBjeD0iNTAiIGN5PSI1MCIgZmlsbD0ibm9uZSIgc3Ryb2tlPSIjYzNjM2MzIiBzdHJva2Utd2lkdGg9IjEwIiByPSIzNSIgc3Ryb2tlLWRhc2hhcnJheT0iMTY0LjkzMzYxNDMxMzQ2NDE1IDU2Ljk3Nzg3MTQzNzgyMTM4Ij4gICAgPGFuaW1hdGVUcmFuc2Zvcm0gYXR0cmlidXRlTmFtZT0idHJhbnNmb3JtIiB0eXBlPSJyb3RhdGUiIHJlcGVhdENvdW50PSJpbmRlZmluaXRlIiBkdXI9IjFzIiB2YWx1ZXM9IjAgNTAgNTA7MzYwIDUwIDUwIiBrZXlUaW1lcz0iMDsxIj48L2FuaW1hdGVUcmFuc2Zvcm0+ICA8L2NpcmNsZT48L3N2Zz4=\\\");\\n  background-size: auto calc(min(50%, 400px));\\n}\",{\"id\":\"a95f4dab-951a-401d-a68d-e72443d1f118\"},{\"id\":\"d6d5ffb6-101f-473b-9889-2b2d3f2ef9bd\"},{\"id\":\"e2556782-cbe4-4522-89ab-0cf88dd4f11b\"},{\"id\":\"3f857b07-6d9a-4837-8197-ae015e3554ae\"}],\"margin\":0,\"sizing_mode\":\"stretch_width\",\"align\":\"start\",\"children\":[{\"type\":\"object\",\"name\":\"Slider\",\"id\":\"0cbe1521-7889-4f4f-b124-6e3bcbcdf360\",\"attributes\":{\"stylesheets\":[\"\\n:host(.pn-loading.pn-arc):before, .pn-loading.pn-arc:before {\\n  background-image: url(\\\"data:image/svg+xml;base64,PHN2ZyB4bWxucz0iaHR0cDovL3d3dy53My5vcmcvMjAwMC9zdmciIHN0eWxlPSJtYXJnaW46IGF1dG87IGJhY2tncm91bmQ6IG5vbmU7IGRpc3BsYXk6IGJsb2NrOyBzaGFwZS1yZW5kZXJpbmc6IGF1dG87IiB2aWV3Qm94PSIwIDAgMTAwIDEwMCIgcHJlc2VydmVBc3BlY3RSYXRpbz0ieE1pZFlNaWQiPiAgPGNpcmNsZSBjeD0iNTAiIGN5PSI1MCIgZmlsbD0ibm9uZSIgc3Ryb2tlPSIjYzNjM2MzIiBzdHJva2Utd2lkdGg9IjEwIiByPSIzNSIgc3Ryb2tlLWRhc2hhcnJheT0iMTY0LjkzMzYxNDMxMzQ2NDE1IDU2Ljk3Nzg3MTQzNzgyMTM4Ij4gICAgPGFuaW1hdGVUcmFuc2Zvcm0gYXR0cmlidXRlTmFtZT0idHJhbnNmb3JtIiB0eXBlPSJyb3RhdGUiIHJlcGVhdENvdW50PSJpbmRlZmluaXRlIiBkdXI9IjFzIiB2YWx1ZXM9IjAgNTAgNTA7MzYwIDUwIDUwIiBrZXlUaW1lcz0iMDsxIj48L2FuaW1hdGVUcmFuc2Zvcm0+ICA8L2NpcmNsZT48L3N2Zz4=\\\");\\n  background-size: auto calc(min(50%, 400px));\\n}\",{\"id\":\"a95f4dab-951a-401d-a68d-e72443d1f118\"},{\"id\":\"e2556782-cbe4-4522-89ab-0cf88dd4f11b\"},{\"id\":\"3f857b07-6d9a-4837-8197-ae015e3554ae\"}],\"margin\":[5,10],\"sizing_mode\":\"stretch_width\",\"align\":\"start\",\"title\":\"Year slider\",\"start\":1960,\"end\":2022,\"value\":1970,\"step\":5}},{\"type\":\"object\",\"name\":\"RadioButtonGroup\",\"id\":\"084d522d-70ca-4991-9c97-4d47ddd0ae8f\",\"attributes\":{\"button_type\":\"success\",\"css_classes\":[\"solid\"],\"stylesheets\":[\"\\n:host(.pn-loading.pn-arc):before, .pn-loading.pn-arc:before {\\n  background-image: url(\\\"data:image/svg+xml;base64,PHN2ZyB4bWxucz0iaHR0cDovL3d3dy53My5vcmcvMjAwMC9zdmciIHN0eWxlPSJtYXJnaW46IGF1dG87IGJhY2tncm91bmQ6IG5vbmU7IGRpc3BsYXk6IGJsb2NrOyBzaGFwZS1yZW5kZXJpbmc6IGF1dG87IiB2aWV3Qm94PSIwIDAgMTAwIDEwMCIgcHJlc2VydmVBc3BlY3RSYXRpbz0ieE1pZFlNaWQiPiAgPGNpcmNsZSBjeD0iNTAiIGN5PSI1MCIgZmlsbD0ibm9uZSIgc3Ryb2tlPSIjYzNjM2MzIiBzdHJva2Utd2lkdGg9IjEwIiByPSIzNSIgc3Ryb2tlLWRhc2hhcnJheT0iMTY0LjkzMzYxNDMxMzQ2NDE1IDU2Ljk3Nzg3MTQzNzgyMTM4Ij4gICAgPGFuaW1hdGVUcmFuc2Zvcm0gYXR0cmlidXRlTmFtZT0idHJhbnNmb3JtIiB0eXBlPSJyb3RhdGUiIHJlcGVhdENvdW50PSJpbmRlZmluaXRlIiBkdXI9IjFzIiB2YWx1ZXM9IjAgNTAgNTA7MzYwIDUwIDUwIiBrZXlUaW1lcz0iMDsxIj48L2FuaW1hdGVUcmFuc2Zvcm0+ICA8L2NpcmNsZT48L3N2Zz4=\\\");\\n  background-size: auto calc(min(50%, 400px));\\n}\",{\"id\":\"a95f4dab-951a-401d-a68d-e72443d1f118\"},{\"type\":\"object\",\"name\":\"ImportedStyleSheet\",\"id\":\"943ada03-741c-4dc0-b5af-919e0d60278a\",\"attributes\":{\"url\":\"https://cdn.holoviz.org/panel/1.2.3/dist/css/button.css\"}},{\"id\":\"e2556782-cbe4-4522-89ab-0cf88dd4f11b\"},{\"id\":\"3f857b07-6d9a-4837-8197-ae015e3554ae\"}],\"margin\":[5,10],\"sizing_mode\":\"stretch_width\",\"align\":\"start\",\"labels\":[\"coal_consumption\",\"coal_cons_per_capita\"],\"active\":0}}]}},{\"type\":\"object\",\"name\":\"panel.models.layout.Column\",\"id\":\"b4c97be5-b4ae-42b1-ade3-fb0b95108fbc\",\"attributes\":{\"name\":\"Column41951\",\"stylesheets\":[\"\\n:host(.pn-loading.pn-arc):before, .pn-loading.pn-arc:before {\\n  background-image: url(\\\"data:image/svg+xml;base64,PHN2ZyB4bWxucz0iaHR0cDovL3d3dy53My5vcmcvMjAwMC9zdmciIHN0eWxlPSJtYXJnaW46IGF1dG87IGJhY2tncm91bmQ6IG5vbmU7IGRpc3BsYXk6IGJsb2NrOyBzaGFwZS1yZW5kZXJpbmc6IGF1dG87IiB2aWV3Qm94PSIwIDAgMTAwIDEwMCIgcHJlc2VydmVBc3BlY3RSYXRpbz0ieE1pZFlNaWQiPiAgPGNpcmNsZSBjeD0iNTAiIGN5PSI1MCIgZmlsbD0ibm9uZSIgc3Ryb2tlPSIjYzNjM2MzIiBzdHJva2Utd2lkdGg9IjEwIiByPSIzNSIgc3Ryb2tlLWRhc2hhcnJheT0iMTY0LjkzMzYxNDMxMzQ2NDE1IDU2Ljk3Nzg3MTQzNzgyMTM4Ij4gICAgPGFuaW1hdGVUcmFuc2Zvcm0gYXR0cmlidXRlTmFtZT0idHJhbnNmb3JtIiB0eXBlPSJyb3RhdGUiIHJlcGVhdENvdW50PSJpbmRlZmluaXRlIiBkdXI9IjFzIiB2YWx1ZXM9IjAgNTAgNTA7MzYwIDUwIDUwIiBrZXlUaW1lcz0iMDsxIj48L2FuaW1hdGVUcmFuc2Zvcm0+ICA8L2NpcmNsZT48L3N2Zz4=\\\");\\n  background-size: auto calc(min(50%, 400px));\\n}\",{\"id\":\"a95f4dab-951a-401d-a68d-e72443d1f118\"},{\"id\":\"d6d5ffb6-101f-473b-9889-2b2d3f2ef9bd\"},{\"id\":\"e2556782-cbe4-4522-89ab-0cf88dd4f11b\"},{\"id\":\"3f857b07-6d9a-4837-8197-ae015e3554ae\"}],\"margin\":0,\"sizing_mode\":\"stretch_width\",\"align\":\"start\",\"children\":[{\"type\":\"object\",\"name\":\"panel.models.markup.HTML\",\"id\":\"34806bfd-f8bc-487c-9b96-21c59455aa08\",\"attributes\":{\"stylesheets\":[\"\\n:host(.pn-loading.pn-arc):before, .pn-loading.pn-arc:before {\\n  background-image: url(\\\"data:image/svg+xml;base64,PHN2ZyB4bWxucz0iaHR0cDovL3d3dy53My5vcmcvMjAwMC9zdmciIHN0eWxlPSJtYXJnaW46IGF1dG87IGJhY2tncm91bmQ6IG5vbmU7IGRpc3BsYXk6IGJsb2NrOyBzaGFwZS1yZW5kZXJpbmc6IGF1dG87IiB2aWV3Qm94PSIwIDAgMTAwIDEwMCIgcHJlc2VydmVBc3BlY3RSYXRpbz0ieE1pZFlNaWQiPiAgPGNpcmNsZSBjeD0iNTAiIGN5PSI1MCIgZmlsbD0ibm9uZSIgc3Ryb2tlPSIjYzNjM2MzIiBzdHJva2Utd2lkdGg9IjEwIiByPSIzNSIgc3Ryb2tlLWRhc2hhcnJheT0iMTY0LjkzMzYxNDMxMzQ2NDE1IDU2Ljk3Nzg3MTQzNzgyMTM4Ij4gICAgPGFuaW1hdGVUcmFuc2Zvcm0gYXR0cmlidXRlTmFtZT0idHJhbnNmb3JtIiB0eXBlPSJyb3RhdGUiIHJlcGVhdENvdW50PSJpbmRlZmluaXRlIiBkdXI9IjFzIiB2YWx1ZXM9IjAgNTAgNTA7MzYwIDUwIDUwIiBrZXlUaW1lcz0iMDsxIj48L2FuaW1hdGVUcmFuc2Zvcm0+ICA8L2NpcmNsZT48L3N2Zz4=\\\");\\n  background-size: auto calc(min(50%, 400px));\\n}\",{\"id\":\"a95f4dab-951a-401d-a68d-e72443d1f118\"},{\"type\":\"object\",\"name\":\"ImportedStyleSheet\",\"id\":\"dbebf809-f521-42f4-81f2-072a4b52c130\",\"attributes\":{\"url\":\"https://cdn.holoviz.org/panel/1.2.3/dist/css/dataframe.css\"}},{\"id\":\"e2556782-cbe4-4522-89ab-0cf88dd4f11b\"},{\"id\":\"3f857b07-6d9a-4837-8197-ae015e3554ae\"}],\"margin\":[5,10],\"sizing_mode\":\"stretch_width\",\"align\":\"start\",\"text\":\"&lt;table class=&quot;dataframe panel-df&quot;&gt;\\n  &lt;thead&gt;\\n    &lt;tr style=&quot;text-align: right;&quot;&gt;\\n      &lt;th&gt;&lt;/th&gt;\\n      &lt;th&gt;country&lt;/th&gt;\\n      &lt;th&gt;year&lt;/th&gt;\\n      &lt;th&gt;coal_production&lt;/th&gt;\\n      &lt;th&gt;coal_consumption&lt;/th&gt;\\n    &lt;/tr&gt;\\n  &lt;/thead&gt;\\n  &lt;tbody&gt;\\n    &lt;tr&gt;\\n      &lt;th&gt;403&lt;/th&gt;\\n      &lt;td&gt;World&lt;/td&gt;\\n      &lt;td&gt;2021&lt;/td&gt;\\n      &lt;td&gt;45137.516&lt;/td&gt;\\n      &lt;td&gt;44564.812&lt;/td&gt;\\n    &lt;/tr&gt;\\n    &lt;tr&gt;\\n      &lt;th&gt;404&lt;/th&gt;\\n      &lt;td&gt;North America&lt;/td&gt;\\n      &lt;td&gt;2021&lt;/td&gt;\\n      &lt;td&gt;3603.354&lt;/td&gt;\\n      &lt;td&gt;3170.262&lt;/td&gt;\\n    &lt;/tr&gt;\\n    &lt;tr&gt;\\n      &lt;th&gt;405&lt;/th&gt;\\n      &lt;td&gt;Africa&lt;/td&gt;\\n      &lt;td&gt;2021&lt;/td&gt;\\n      &lt;td&gt;1646.889&lt;/td&gt;\\n      &lt;td&gt;1159.794&lt;/td&gt;\\n    &lt;/tr&gt;\\n    &lt;tr&gt;\\n      &lt;th&gt;406&lt;/th&gt;\\n      &lt;td&gt;Africa&lt;/td&gt;\\n      &lt;td&gt;2022&lt;/td&gt;\\n      &lt;td&gt;1666.542&lt;/td&gt;\\n      &lt;td&gt;1103.578&lt;/td&gt;\\n    &lt;/tr&gt;\\n    &lt;tr&gt;\\n      &lt;th&gt;407&lt;/th&gt;\\n      &lt;td&gt;Asia&lt;/td&gt;\\n      &lt;td&gt;2022&lt;/td&gt;\\n      &lt;td&gt;35422.090&lt;/td&gt;\\n      &lt;td&gt;36848.836&lt;/td&gt;\\n    &lt;/tr&gt;\\n    &lt;tr&gt;\\n      &lt;th&gt;408&lt;/th&gt;\\n      &lt;td&gt;Oceania&lt;/td&gt;\\n      &lt;td&gt;2022&lt;/td&gt;\\n      &lt;td&gt;3201.980&lt;/td&gt;\\n      &lt;td&gt;443.482&lt;/td&gt;\\n    &lt;/tr&gt;\\n    &lt;tr&gt;\\n      &lt;th&gt;409&lt;/th&gt;\\n      &lt;td&gt;South America&lt;/td&gt;\\n      &lt;td&gt;2022&lt;/td&gt;\\n      &lt;td&gt;492.568&lt;/td&gt;\\n      &lt;td&gt;276.277&lt;/td&gt;\\n    &lt;/tr&gt;\\n    &lt;tr&gt;\\n      &lt;th&gt;410&lt;/th&gt;\\n      &lt;td&gt;Europe&lt;/td&gt;\\n      &lt;td&gt;2022&lt;/td&gt;\\n      &lt;td&gt;3974.979&lt;/td&gt;\\n      &lt;td&gt;3210.590&lt;/td&gt;\\n    &lt;/tr&gt;\\n    &lt;tr&gt;\\n      &lt;th&gt;411&lt;/th&gt;\\n      &lt;td&gt;North America&lt;/td&gt;\\n      &lt;td&gt;2022&lt;/td&gt;\\n      &lt;td&gt;3718.802&lt;/td&gt;\\n      &lt;td&gt;2958.294&lt;/td&gt;\\n    &lt;/tr&gt;\\n    &lt;tr&gt;\\n      &lt;th&gt;412&lt;/th&gt;\\n      &lt;td&gt;World&lt;/td&gt;\\n      &lt;td&gt;2022&lt;/td&gt;\\n      &lt;td&gt;48490.000&lt;/td&gt;\\n      &lt;td&gt;44854.035&lt;/td&gt;\\n    &lt;/tr&gt;\\n  &lt;/tbody&gt;\\n&lt;/table&gt;\",\"disable_math\":true}}]}}]}}]}},{\"type\":\"object\",\"name\":\"panel.models.comm_manager.CommManager\",\"id\":\"8b8ff2b0-d274-4e6b-9d74-5d4137bb5bf0\",\"attributes\":{\"plot_id\":\"7f5baba1-3457-4748-8687-f305d205ace9\",\"comm_id\":\"420ae01e264a47158b6a83dd70edaeb6\",\"client_comm_id\":\"65271ea10b9545c0ab74eb5e5075b50f\"}}],\"defs\":[{\"type\":\"model\",\"name\":\"ReactiveHTML1\"},{\"type\":\"model\",\"name\":\"FlexBox1\",\"properties\":[{\"name\":\"align_content\",\"kind\":\"Any\",\"default\":\"flex-start\"},{\"name\":\"align_items\",\"kind\":\"Any\",\"default\":\"flex-start\"},{\"name\":\"flex_direction\",\"kind\":\"Any\",\"default\":\"row\"},{\"name\":\"flex_wrap\",\"kind\":\"Any\",\"default\":\"wrap\"},{\"name\":\"justify_content\",\"kind\":\"Any\",\"default\":\"flex-start\"}]},{\"type\":\"model\",\"name\":\"FloatPanel1\",\"properties\":[{\"name\":\"config\",\"kind\":\"Any\",\"default\":{\"type\":\"map\"}},{\"name\":\"contained\",\"kind\":\"Any\",\"default\":true},{\"name\":\"position\",\"kind\":\"Any\",\"default\":\"right-top\"},{\"name\":\"offsetx\",\"kind\":\"Any\",\"default\":null},{\"name\":\"offsety\",\"kind\":\"Any\",\"default\":null},{\"name\":\"theme\",\"kind\":\"Any\",\"default\":\"primary\"},{\"name\":\"status\",\"kind\":\"Any\",\"default\":\"normalized\"}]},{\"type\":\"model\",\"name\":\"GridStack1\",\"properties\":[{\"name\":\"mode\",\"kind\":\"Any\",\"default\":\"warn\"},{\"name\":\"ncols\",\"kind\":\"Any\",\"default\":null},{\"name\":\"nrows\",\"kind\":\"Any\",\"default\":null},{\"name\":\"allow_resize\",\"kind\":\"Any\",\"default\":true},{\"name\":\"allow_drag\",\"kind\":\"Any\",\"default\":true},{\"name\":\"state\",\"kind\":\"Any\",\"default\":[]}]},{\"type\":\"model\",\"name\":\"drag1\",\"properties\":[{\"name\":\"slider_width\",\"kind\":\"Any\",\"default\":5},{\"name\":\"slider_color\",\"kind\":\"Any\",\"default\":\"black\"},{\"name\":\"value\",\"kind\":\"Any\",\"default\":50}]},{\"type\":\"model\",\"name\":\"click1\",\"properties\":[{\"name\":\"terminal_output\",\"kind\":\"Any\",\"default\":\"\"},{\"name\":\"debug_name\",\"kind\":\"Any\",\"default\":\"\"},{\"name\":\"clears\",\"kind\":\"Any\",\"default\":0}]},{\"type\":\"model\",\"name\":\"FastWrapper1\",\"properties\":[{\"name\":\"object\",\"kind\":\"Any\",\"default\":null},{\"name\":\"style\",\"kind\":\"Any\",\"default\":null}]},{\"type\":\"model\",\"name\":\"NotificationAreaBase1\",\"properties\":[{\"name\":\"js_events\",\"kind\":\"Any\",\"default\":{\"type\":\"map\"}},{\"name\":\"position\",\"kind\":\"Any\",\"default\":\"bottom-right\"},{\"name\":\"_clear\",\"kind\":\"Any\",\"default\":0}]},{\"type\":\"model\",\"name\":\"NotificationArea1\",\"properties\":[{\"name\":\"js_events\",\"kind\":\"Any\",\"default\":{\"type\":\"map\"}},{\"name\":\"notifications\",\"kind\":\"Any\",\"default\":[]},{\"name\":\"position\",\"kind\":\"Any\",\"default\":\"bottom-right\"},{\"name\":\"_clear\",\"kind\":\"Any\",\"default\":0},{\"name\":\"types\",\"kind\":\"Any\",\"default\":[{\"type\":\"map\",\"entries\":[[\"type\",\"warning\"],[\"background\",\"#ffc107\"],[\"icon\",{\"type\":\"map\",\"entries\":[[\"className\",\"fas fa-exclamation-triangle\"],[\"tagName\",\"i\"],[\"color\",\"white\"]]}]]},{\"type\":\"map\",\"entries\":[[\"type\",\"info\"],[\"background\",\"#007bff\"],[\"icon\",{\"type\":\"map\",\"entries\":[[\"className\",\"fas fa-info-circle\"],[\"tagName\",\"i\"],[\"color\",\"white\"]]}]]}]}]},{\"type\":\"model\",\"name\":\"Notification\",\"properties\":[{\"name\":\"background\",\"kind\":\"Any\",\"default\":null},{\"name\":\"duration\",\"kind\":\"Any\",\"default\":3000},{\"name\":\"icon\",\"kind\":\"Any\",\"default\":null},{\"name\":\"message\",\"kind\":\"Any\",\"default\":\"\"},{\"name\":\"notification_type\",\"kind\":\"Any\",\"default\":null},{\"name\":\"_destroyed\",\"kind\":\"Any\",\"default\":false}]},{\"type\":\"model\",\"name\":\"TemplateActions1\",\"properties\":[{\"name\":\"open_modal\",\"kind\":\"Any\",\"default\":0},{\"name\":\"close_modal\",\"kind\":\"Any\",\"default\":0}]},{\"type\":\"model\",\"name\":\"BootstrapTemplateActions1\",\"properties\":[{\"name\":\"open_modal\",\"kind\":\"Any\",\"default\":0},{\"name\":\"close_modal\",\"kind\":\"Any\",\"default\":0}]},{\"type\":\"model\",\"name\":\"MaterialTemplateActions1\",\"properties\":[{\"name\":\"open_modal\",\"kind\":\"Any\",\"default\":0},{\"name\":\"close_modal\",\"kind\":\"Any\",\"default\":0}]}]}};\n",
       "  var render_items = [{\"docid\":\"b9dc1766-0f95-4e76-b406-b2fed3aca155\",\"roots\":{\"7f5baba1-3457-4748-8687-f305d205ace9\":\"da506904-6f1f-4f8a-84e0-1c4ac63d8c88\"},\"root_ids\":[\"7f5baba1-3457-4748-8687-f305d205ace9\"]}];\n",
       "  var docs = Object.values(docs_json)\n",
       "  if (!docs) {\n",
       "    return\n",
       "  }\n",
       "  const py_version = docs[0].version.replace('rc', '-rc.').replace('.dev', '-dev.')\n",
       "  const is_dev = py_version.indexOf(\"+\") !== -1 || py_version.indexOf(\"-\") !== -1\n",
       "  function embed_document(root) {\n",
       "    var Bokeh = get_bokeh(root)\n",
       "    Bokeh.embed.embed_items_notebook(docs_json, render_items);\n",
       "    for (const render_item of render_items) {\n",
       "      for (const root_id of render_item.root_ids) {\n",
       "\tconst id_el = document.getElementById(root_id)\n",
       "\tif (id_el.children.length && (id_el.children[0].className === 'bk-root')) {\n",
       "\t  const root_el = id_el.children[0]\n",
       "\t  root_el.id = root_el.id + '-rendered'\n",
       "\t}\n",
       "      }\n",
       "    }\n",
       "  }\n",
       "  function get_bokeh(root) {\n",
       "    if (root.Bokeh === undefined) {\n",
       "      return null\n",
       "    } else if (root.Bokeh.version !== py_version && !is_dev) {\n",
       "      if (root.Bokeh.versions === undefined || !root.Bokeh.versions.has(py_version)) {\n",
       "\treturn null\n",
       "      }\n",
       "      return root.Bokeh.versions.get(py_version);\n",
       "    } else if (root.Bokeh.version === py_version) {\n",
       "      return root.Bokeh\n",
       "    }\n",
       "    return null\n",
       "  }\n",
       "  function is_loaded(root) {\n",
       "    var Bokeh = get_bokeh(root)\n",
       "    return (Bokeh != null && Bokeh.Panel !== undefined && ( root['Tabulator'] !== undefined) && ( root['Tabulator'] !== undefined) && ( root['Tabulator'] !== undefined))\n",
       "  }\n",
       "  if (is_loaded(root)) {\n",
       "    embed_document(root);\n",
       "  } else {\n",
       "    var attempts = 0;\n",
       "    var timer = setInterval(function(root) {\n",
       "      if (is_loaded(root)) {\n",
       "        clearInterval(timer);\n",
       "        embed_document(root);\n",
       "      } else if (document.readyState == \"complete\") {\n",
       "        attempts++;\n",
       "        if (attempts > 200) {\n",
       "          clearInterval(timer);\n",
       "\t  var Bokeh = get_bokeh(root)\n",
       "\t  if (Bokeh == null || Bokeh.Panel == null) {\n",
       "            console.warn(\"Panel: ERROR: Unable to run Panel code because Bokeh or Panel library is missing\");\n",
       "\t  } else {\n",
       "\t    console.warn(\"Panel: WARNING: Attempting to render but not all required libraries could be resolved.\")\n",
       "\t    embed_document(root)\n",
       "\t  }\n",
       "        }\n",
       "      }\n",
       "    }, 25, root)\n",
       "  }\n",
       "})(window);</script>"
      ],
      "text/plain": [
       "<hvplot.interactive.Interactive at 0x24ebc141120>"
      ]
     },
     "execution_count": 28,
     "metadata": {
      "application/vnd.holoviews_exec.v0+json": {
       "id": "7f5baba1-3457-4748-8687-f305d205ace9"
      }
     },
     "output_type": "execute_result"
    }
   ],
   "source": [
    "coal_pipeline.tail(10)"
   ]
  },
  {
   "cell_type": "code",
   "execution_count": 29,
   "id": "7d1f7f25-2e97-4db9-97b7-9581f948a1e8",
   "metadata": {},
   "outputs": [],
   "source": [
    "# Plot the data\n",
    "coal_plot = coal_pipeline.hvplot(x = 'year', by='country', y=yaxis_coal, line_width=2, title=\"Coal Consumption by Continent\")"
   ]
  },
  {
   "cell_type": "markdown",
   "id": "e3481865",
   "metadata": {},
   "source": [
    "### (2) Heatmap - Coal production over time"
   ]
  },
  {
   "cell_type": "code",
   "execution_count": 30,
   "id": "67a8866b-33d2-4a07-a8a4-c7676830e267",
   "metadata": {},
   "outputs": [],
   "source": [
    "# coal_table = coal_pipeline.pipe(pn.widgets.Tabulator, pagination='remote', page_size = 10, sizing_mode='stretch_width')\n",
    "coal_heatmap = coal_pipeline.hvplot.heatmap(x='year', y='country', C='coal_production', cmap='Set3', title='Coal Production by Continent')"
   ]
  },
  {
   "cell_type": "markdown",
   "id": "50acf79e-415e-4eac-bcb5-215f9c72745f",
   "metadata": {},
   "source": [
    "### (3) Coal vs GDP Scatterplot"
   ]
  },
  {
   "cell_type": "code",
   "execution_count": 31,
   "id": "99283974-65fa-4634-b796-c2a559c83f45",
   "metadata": {},
   "outputs": [],
   "source": [
    "# Create a subset of idf based on specified conditions\n",
    "coal_gdp_pipeline = (\n",
    "    idf[\n",
    "        (idf.year == year_slider) & \n",
    "        (~ (idf.country.isin(continents)))\n",
    "    ]\n",
    "    .groupby(['country', 'year', 'gdp_per_capita'])['coal_consumption'].mean() # Average of coal_consumption for each country over time (year)\n",
    "    .to_frame() # Convert result to df\n",
    "    .reset_index()\n",
    "    .sort_values(by='year')\n",
    "    .reset_index(drop=True) # Discard old index and assign default integer index\n",
    ")"
   ]
  },
  {
   "cell_type": "code",
   "execution_count": 32,
   "id": "06bbacbf-7dc1-4c62-929b-8eb7ff6e359a",
   "metadata": {},
   "outputs": [
    {
     "data": {},
     "metadata": {},
     "output_type": "display_data"
    },
    {
     "data": {
      "application/vnd.holoviews_exec.v0+json": "",
      "text/html": [
       "<div id='90bfaf59-f489-48e8-8330-59c9cff628de'>\n",
       "  <div id=\"c3952944-a59e-4ce7-ae18-f046b66ba4a1\" data-root-id=\"90bfaf59-f489-48e8-8330-59c9cff628de\" style=\"display: contents;\"></div>\n",
       "</div>\n",
       "<script type=\"application/javascript\">(function(root) {\n",
       "  var docs_json = {\"8fa96434-5a79-40ce-89ec-f140f25f1a25\":{\"version\":\"3.2.2\",\"title\":\"Bokeh Application\",\"roots\":[{\"type\":\"object\",\"name\":\"Row\",\"id\":\"90bfaf59-f489-48e8-8330-59c9cff628de\",\"attributes\":{\"name\":\"Row47351\",\"stylesheets\":[\"\\n:host(.pn-loading.pn-arc):before, .pn-loading.pn-arc:before {\\n  background-image: url(\\\"data:image/svg+xml;base64,PHN2ZyB4bWxucz0iaHR0cDovL3d3dy53My5vcmcvMjAwMC9zdmciIHN0eWxlPSJtYXJnaW46IGF1dG87IGJhY2tncm91bmQ6IG5vbmU7IGRpc3BsYXk6IGJsb2NrOyBzaGFwZS1yZW5kZXJpbmc6IGF1dG87IiB2aWV3Qm94PSIwIDAgMTAwIDEwMCIgcHJlc2VydmVBc3BlY3RSYXRpbz0ieE1pZFlNaWQiPiAgPGNpcmNsZSBjeD0iNTAiIGN5PSI1MCIgZmlsbD0ibm9uZSIgc3Ryb2tlPSIjYzNjM2MzIiBzdHJva2Utd2lkdGg9IjEwIiByPSIzNSIgc3Ryb2tlLWRhc2hhcnJheT0iMTY0LjkzMzYxNDMxMzQ2NDE1IDU2Ljk3Nzg3MTQzNzgyMTM4Ij4gICAgPGFuaW1hdGVUcmFuc2Zvcm0gYXR0cmlidXRlTmFtZT0idHJhbnNmb3JtIiB0eXBlPSJyb3RhdGUiIHJlcGVhdENvdW50PSJpbmRlZmluaXRlIiBkdXI9IjFzIiB2YWx1ZXM9IjAgNTAgNTA7MzYwIDUwIDUwIiBrZXlUaW1lcz0iMDsxIj48L2FuaW1hdGVUcmFuc2Zvcm0+ICA8L2NpcmNsZT48L3N2Zz4=\\\");\\n  background-size: auto calc(min(50%, 400px));\\n}\",{\"type\":\"object\",\"name\":\"ImportedStyleSheet\",\"id\":\"7da1f2e1-cbd5-438f-9557-516b141ec84e\",\"attributes\":{\"url\":\"https://cdn.holoviz.org/panel/1.2.3/dist/css/loading.css\"}},{\"type\":\"object\",\"name\":\"ImportedStyleSheet\",\"id\":\"b5992a11-2b46-481d-af22-112ca8b55b64\",\"attributes\":{\"url\":\"https://cdn.holoviz.org/panel/1.2.3/dist/css/listpanel.css\"}},{\"type\":\"object\",\"name\":\"ImportedStyleSheet\",\"id\":\"7c856e4c-5a97-41c1-9f74-cd5c6365f699\",\"attributes\":{\"url\":\"https://cdn.holoviz.org/panel/1.2.3/dist/bundled/theme/default.css\"}},{\"type\":\"object\",\"name\":\"ImportedStyleSheet\",\"id\":\"d1ddc7f1-2b12-4145-94ea-61e21b288b98\",\"attributes\":{\"url\":\"https://cdn.holoviz.org/panel/1.2.3/dist/bundled/theme/native.css\"}}],\"margin\":0,\"sizing_mode\":\"stretch_width\",\"align\":\"start\",\"children\":[{\"type\":\"object\",\"name\":\"panel.models.layout.Column\",\"id\":\"f7a23f79-8c73-42d1-81e4-9bbaa03c04f4\",\"attributes\":{\"name\":\"Column47348\",\"stylesheets\":[\"\\n:host(.pn-loading.pn-arc):before, .pn-loading.pn-arc:before {\\n  background-image: url(\\\"data:image/svg+xml;base64,PHN2ZyB4bWxucz0iaHR0cDovL3d3dy53My5vcmcvMjAwMC9zdmciIHN0eWxlPSJtYXJnaW46IGF1dG87IGJhY2tncm91bmQ6IG5vbmU7IGRpc3BsYXk6IGJsb2NrOyBzaGFwZS1yZW5kZXJpbmc6IGF1dG87IiB2aWV3Qm94PSIwIDAgMTAwIDEwMCIgcHJlc2VydmVBc3BlY3RSYXRpbz0ieE1pZFlNaWQiPiAgPGNpcmNsZSBjeD0iNTAiIGN5PSI1MCIgZmlsbD0ibm9uZSIgc3Ryb2tlPSIjYzNjM2MzIiBzdHJva2Utd2lkdGg9IjEwIiByPSIzNSIgc3Ryb2tlLWRhc2hhcnJheT0iMTY0LjkzMzYxNDMxMzQ2NDE1IDU2Ljk3Nzg3MTQzNzgyMTM4Ij4gICAgPGFuaW1hdGVUcmFuc2Zvcm0gYXR0cmlidXRlTmFtZT0idHJhbnNmb3JtIiB0eXBlPSJyb3RhdGUiIHJlcGVhdENvdW50PSJpbmRlZmluaXRlIiBkdXI9IjFzIiB2YWx1ZXM9IjAgNTAgNTA7MzYwIDUwIDUwIiBrZXlUaW1lcz0iMDsxIj48L2FuaW1hdGVUcmFuc2Zvcm0+ICA8L2NpcmNsZT48L3N2Zz4=\\\");\\n  background-size: auto calc(min(50%, 400px));\\n}\",{\"id\":\"7da1f2e1-cbd5-438f-9557-516b141ec84e\"},{\"id\":\"b5992a11-2b46-481d-af22-112ca8b55b64\"},{\"id\":\"7c856e4c-5a97-41c1-9f74-cd5c6365f699\"},{\"id\":\"d1ddc7f1-2b12-4145-94ea-61e21b288b98\"}],\"margin\":0,\"sizing_mode\":\"stretch_width\",\"align\":\"start\",\"children\":[{\"type\":\"object\",\"name\":\"panel.models.layout.Column\",\"id\":\"1eba721f-850d-408e-b765-e6acf338a47a\",\"attributes\":{\"name\":\"Column47318\",\"stylesheets\":[\"\\n:host(.pn-loading.pn-arc):before, .pn-loading.pn-arc:before {\\n  background-image: url(\\\"data:image/svg+xml;base64,PHN2ZyB4bWxucz0iaHR0cDovL3d3dy53My5vcmcvMjAwMC9zdmciIHN0eWxlPSJtYXJnaW46IGF1dG87IGJhY2tncm91bmQ6IG5vbmU7IGRpc3BsYXk6IGJsb2NrOyBzaGFwZS1yZW5kZXJpbmc6IGF1dG87IiB2aWV3Qm94PSIwIDAgMTAwIDEwMCIgcHJlc2VydmVBc3BlY3RSYXRpbz0ieE1pZFlNaWQiPiAgPGNpcmNsZSBjeD0iNTAiIGN5PSI1MCIgZmlsbD0ibm9uZSIgc3Ryb2tlPSIjYzNjM2MzIiBzdHJva2Utd2lkdGg9IjEwIiByPSIzNSIgc3Ryb2tlLWRhc2hhcnJheT0iMTY0LjkzMzYxNDMxMzQ2NDE1IDU2Ljk3Nzg3MTQzNzgyMTM4Ij4gICAgPGFuaW1hdGVUcmFuc2Zvcm0gYXR0cmlidXRlTmFtZT0idHJhbnNmb3JtIiB0eXBlPSJyb3RhdGUiIHJlcGVhdENvdW50PSJpbmRlZmluaXRlIiBkdXI9IjFzIiB2YWx1ZXM9IjAgNTAgNTA7MzYwIDUwIDUwIiBrZXlUaW1lcz0iMDsxIj48L2FuaW1hdGVUcmFuc2Zvcm0+ICA8L2NpcmNsZT48L3N2Zz4=\\\");\\n  background-size: auto calc(min(50%, 400px));\\n}\",{\"id\":\"7da1f2e1-cbd5-438f-9557-516b141ec84e\"},{\"id\":\"b5992a11-2b46-481d-af22-112ca8b55b64\"},{\"id\":\"7c856e4c-5a97-41c1-9f74-cd5c6365f699\"},{\"id\":\"d1ddc7f1-2b12-4145-94ea-61e21b288b98\"}],\"margin\":0,\"sizing_mode\":\"stretch_width\",\"align\":\"start\",\"children\":[{\"type\":\"object\",\"name\":\"Slider\",\"id\":\"e7e84212-1e2e-4ace-8b0e-9eaa894a8904\",\"attributes\":{\"stylesheets\":[\"\\n:host(.pn-loading.pn-arc):before, .pn-loading.pn-arc:before {\\n  background-image: url(\\\"data:image/svg+xml;base64,PHN2ZyB4bWxucz0iaHR0cDovL3d3dy53My5vcmcvMjAwMC9zdmciIHN0eWxlPSJtYXJnaW46IGF1dG87IGJhY2tncm91bmQ6IG5vbmU7IGRpc3BsYXk6IGJsb2NrOyBzaGFwZS1yZW5kZXJpbmc6IGF1dG87IiB2aWV3Qm94PSIwIDAgMTAwIDEwMCIgcHJlc2VydmVBc3BlY3RSYXRpbz0ieE1pZFlNaWQiPiAgPGNpcmNsZSBjeD0iNTAiIGN5PSI1MCIgZmlsbD0ibm9uZSIgc3Ryb2tlPSIjYzNjM2MzIiBzdHJva2Utd2lkdGg9IjEwIiByPSIzNSIgc3Ryb2tlLWRhc2hhcnJheT0iMTY0LjkzMzYxNDMxMzQ2NDE1IDU2Ljk3Nzg3MTQzNzgyMTM4Ij4gICAgPGFuaW1hdGVUcmFuc2Zvcm0gYXR0cmlidXRlTmFtZT0idHJhbnNmb3JtIiB0eXBlPSJyb3RhdGUiIHJlcGVhdENvdW50PSJpbmRlZmluaXRlIiBkdXI9IjFzIiB2YWx1ZXM9IjAgNTAgNTA7MzYwIDUwIDUwIiBrZXlUaW1lcz0iMDsxIj48L2FuaW1hdGVUcmFuc2Zvcm0+ICA8L2NpcmNsZT48L3N2Zz4=\\\");\\n  background-size: auto calc(min(50%, 400px));\\n}\",{\"id\":\"7da1f2e1-cbd5-438f-9557-516b141ec84e\"},{\"id\":\"7c856e4c-5a97-41c1-9f74-cd5c6365f699\"},{\"id\":\"d1ddc7f1-2b12-4145-94ea-61e21b288b98\"}],\"margin\":[5,10],\"sizing_mode\":\"stretch_width\",\"align\":\"start\",\"title\":\"Year slider\",\"start\":1960,\"end\":2022,\"value\":1970,\"step\":5}}]}},{\"type\":\"object\",\"name\":\"panel.models.layout.Column\",\"id\":\"00fa1cf4-91c1-4932-93a2-c6c1d238dc94\",\"attributes\":{\"name\":\"Column47333\",\"stylesheets\":[\"\\n:host(.pn-loading.pn-arc):before, .pn-loading.pn-arc:before {\\n  background-image: url(\\\"data:image/svg+xml;base64,PHN2ZyB4bWxucz0iaHR0cDovL3d3dy53My5vcmcvMjAwMC9zdmciIHN0eWxlPSJtYXJnaW46IGF1dG87IGJhY2tncm91bmQ6IG5vbmU7IGRpc3BsYXk6IGJsb2NrOyBzaGFwZS1yZW5kZXJpbmc6IGF1dG87IiB2aWV3Qm94PSIwIDAgMTAwIDEwMCIgcHJlc2VydmVBc3BlY3RSYXRpbz0ieE1pZFlNaWQiPiAgPGNpcmNsZSBjeD0iNTAiIGN5PSI1MCIgZmlsbD0ibm9uZSIgc3Ryb2tlPSIjYzNjM2MzIiBzdHJva2Utd2lkdGg9IjEwIiByPSIzNSIgc3Ryb2tlLWRhc2hhcnJheT0iMTY0LjkzMzYxNDMxMzQ2NDE1IDU2Ljk3Nzg3MTQzNzgyMTM4Ij4gICAgPGFuaW1hdGVUcmFuc2Zvcm0gYXR0cmlidXRlTmFtZT0idHJhbnNmb3JtIiB0eXBlPSJyb3RhdGUiIHJlcGVhdENvdW50PSJpbmRlZmluaXRlIiBkdXI9IjFzIiB2YWx1ZXM9IjAgNTAgNTA7MzYwIDUwIDUwIiBrZXlUaW1lcz0iMDsxIj48L2FuaW1hdGVUcmFuc2Zvcm0+ICA8L2NpcmNsZT48L3N2Zz4=\\\");\\n  background-size: auto calc(min(50%, 400px));\\n}\",{\"id\":\"7da1f2e1-cbd5-438f-9557-516b141ec84e\"},{\"id\":\"b5992a11-2b46-481d-af22-112ca8b55b64\"},{\"id\":\"7c856e4c-5a97-41c1-9f74-cd5c6365f699\"},{\"id\":\"d1ddc7f1-2b12-4145-94ea-61e21b288b98\"}],\"margin\":0,\"sizing_mode\":\"stretch_width\",\"align\":\"start\",\"children\":[{\"type\":\"object\",\"name\":\"panel.models.markup.HTML\",\"id\":\"9fd865c9-ff16-433b-ac52-3b800f425cba\",\"attributes\":{\"stylesheets\":[\"\\n:host(.pn-loading.pn-arc):before, .pn-loading.pn-arc:before {\\n  background-image: url(\\\"data:image/svg+xml;base64,PHN2ZyB4bWxucz0iaHR0cDovL3d3dy53My5vcmcvMjAwMC9zdmciIHN0eWxlPSJtYXJnaW46IGF1dG87IGJhY2tncm91bmQ6IG5vbmU7IGRpc3BsYXk6IGJsb2NrOyBzaGFwZS1yZW5kZXJpbmc6IGF1dG87IiB2aWV3Qm94PSIwIDAgMTAwIDEwMCIgcHJlc2VydmVBc3BlY3RSYXRpbz0ieE1pZFlNaWQiPiAgPGNpcmNsZSBjeD0iNTAiIGN5PSI1MCIgZmlsbD0ibm9uZSIgc3Ryb2tlPSIjYzNjM2MzIiBzdHJva2Utd2lkdGg9IjEwIiByPSIzNSIgc3Ryb2tlLWRhc2hhcnJheT0iMTY0LjkzMzYxNDMxMzQ2NDE1IDU2Ljk3Nzg3MTQzNzgyMTM4Ij4gICAgPGFuaW1hdGVUcmFuc2Zvcm0gYXR0cmlidXRlTmFtZT0idHJhbnNmb3JtIiB0eXBlPSJyb3RhdGUiIHJlcGVhdENvdW50PSJpbmRlZmluaXRlIiBkdXI9IjFzIiB2YWx1ZXM9IjAgNTAgNTA7MzYwIDUwIDUwIiBrZXlUaW1lcz0iMDsxIj48L2FuaW1hdGVUcmFuc2Zvcm0+ICA8L2NpcmNsZT48L3N2Zz4=\\\");\\n  background-size: auto calc(min(50%, 400px));\\n}\",{\"id\":\"7da1f2e1-cbd5-438f-9557-516b141ec84e\"},{\"type\":\"object\",\"name\":\"ImportedStyleSheet\",\"id\":\"3ce86b24-3797-4905-95b4-eddb3979c941\",\"attributes\":{\"url\":\"https://cdn.holoviz.org/panel/1.2.3/dist/css/dataframe.css\"}},{\"id\":\"7c856e4c-5a97-41c1-9f74-cd5c6365f699\"},{\"id\":\"d1ddc7f1-2b12-4145-94ea-61e21b288b98\"}],\"margin\":[5,10],\"sizing_mode\":\"stretch_width\",\"align\":\"start\",\"text\":\"&lt;table class=&quot;dataframe panel-df&quot;&gt;\\n  &lt;thead&gt;\\n    &lt;tr style=&quot;text-align: right;&quot;&gt;\\n      &lt;th&gt;&lt;/th&gt;\\n      &lt;th&gt;country&lt;/th&gt;\\n      &lt;th&gt;year&lt;/th&gt;\\n      &lt;th&gt;gdp_per_capita&lt;/th&gt;\\n      &lt;th&gt;coal_consumption&lt;/th&gt;\\n    &lt;/tr&gt;\\n  &lt;/thead&gt;\\n  &lt;tbody&gt;\\n    &lt;tr&gt;\\n      &lt;th&gt;0&lt;/th&gt;\\n      &lt;td&gt;Afghanistan&lt;/td&gt;\\n      &lt;td&gt;1970&lt;/td&gt;\\n      &lt;td&gt;1470.498642&lt;/td&gt;\\n      &lt;td&gt;0.000&lt;/td&gt;\\n    &lt;/tr&gt;\\n    &lt;tr&gt;\\n      &lt;th&gt;1&lt;/th&gt;\\n      &lt;td&gt;Persian Gulf (Shift)&lt;/td&gt;\\n      &lt;td&gt;1970&lt;/td&gt;\\n      &lt;td&gt;0.000000&lt;/td&gt;\\n      &lt;td&gt;0.000&lt;/td&gt;\\n    &lt;/tr&gt;\\n    &lt;tr&gt;\\n      &lt;th&gt;2&lt;/th&gt;\\n      &lt;td&gt;Pakistan&lt;/td&gt;\\n      &lt;td&gt;1970&lt;/td&gt;\\n      &lt;td&gt;1681.134779&lt;/td&gt;\\n      &lt;td&gt;10.734&lt;/td&gt;\\n    &lt;/tr&gt;\\n    &lt;tr&gt;\\n      &lt;th&gt;3&lt;/th&gt;\\n      &lt;td&gt;Oman&lt;/td&gt;\\n      &lt;td&gt;1970&lt;/td&gt;\\n      &lt;td&gt;7029.722739&lt;/td&gt;\\n      &lt;td&gt;0.000&lt;/td&gt;\\n    &lt;/tr&gt;\\n    &lt;tr&gt;\\n      &lt;th&gt;4&lt;/th&gt;\\n      &lt;td&gt;OPEC (Shift)&lt;/td&gt;\\n      &lt;td&gt;1970&lt;/td&gt;\\n      &lt;td&gt;0.000000&lt;/td&gt;\\n      &lt;td&gt;0.000&lt;/td&gt;\\n    &lt;/tr&gt;\\n    &lt;tr&gt;\\n      &lt;th&gt;5&lt;/th&gt;\\n      &lt;td&gt;OPEC (EI)&lt;/td&gt;\\n      &lt;td&gt;1970&lt;/td&gt;\\n      &lt;td&gt;0.000000&lt;/td&gt;\\n      &lt;td&gt;0.000&lt;/td&gt;\\n    &lt;/tr&gt;\\n    &lt;tr&gt;\\n      &lt;th&gt;6&lt;/th&gt;\\n      &lt;td&gt;OECD (Shift)&lt;/td&gt;\\n      &lt;td&gt;1970&lt;/td&gt;\\n      &lt;td&gt;0.000000&lt;/td&gt;\\n      &lt;td&gt;0.000&lt;/td&gt;\\n    &lt;/tr&gt;\\n    &lt;tr&gt;\\n      &lt;th&gt;7&lt;/th&gt;\\n      &lt;td&gt;OECD (EI)&lt;/td&gt;\\n      &lt;td&gt;1970&lt;/td&gt;\\n      &lt;td&gt;0.000000&lt;/td&gt;\\n      &lt;td&gt;10132.295&lt;/td&gt;\\n    &lt;/tr&gt;\\n    &lt;tr&gt;\\n      &lt;th&gt;8&lt;/th&gt;\\n      &lt;td&gt;Norway&lt;/td&gt;\\n      &lt;td&gt;1970&lt;/td&gt;\\n      &lt;td&gt;15990.571355&lt;/td&gt;\\n      &lt;td&gt;9.940&lt;/td&gt;\\n    &lt;/tr&gt;\\n    &lt;tr&gt;\\n      &lt;th&gt;9&lt;/th&gt;\\n      &lt;td&gt;North Korea&lt;/td&gt;\\n      &lt;td&gt;1970&lt;/td&gt;\\n      &lt;td&gt;0.000000&lt;/td&gt;\\n      &lt;td&gt;0.000&lt;/td&gt;\\n    &lt;/tr&gt;\\n    &lt;tr&gt;\\n      &lt;th&gt;10&lt;/th&gt;\\n      &lt;td&gt;North America (Shift)&lt;/td&gt;\\n      &lt;td&gt;1970&lt;/td&gt;\\n      &lt;td&gt;0.000000&lt;/td&gt;\\n      &lt;td&gt;0.000&lt;/td&gt;\\n    &lt;/tr&gt;\\n    &lt;tr&gt;\\n      &lt;th&gt;11&lt;/th&gt;\\n      &lt;td&gt;North America (EI)&lt;/td&gt;\\n      &lt;td&gt;1970&lt;/td&gt;\\n      &lt;td&gt;0.000000&lt;/td&gt;\\n      &lt;td&gt;3624.044&lt;/td&gt;\\n    &lt;/tr&gt;\\n    &lt;tr&gt;\\n      &lt;th&gt;12&lt;/th&gt;\\n      &lt;td&gt;Non-OPEC (EI)&lt;/td&gt;\\n      &lt;td&gt;1970&lt;/td&gt;\\n      &lt;td&gt;0.000000&lt;/td&gt;\\n      &lt;td&gt;0.000&lt;/td&gt;\\n    &lt;/tr&gt;\\n    &lt;tr&gt;\\n      &lt;th&gt;13&lt;/th&gt;\\n      &lt;td&gt;Non-OECD (EI)&lt;/td&gt;\\n      &lt;td&gt;1970&lt;/td&gt;\\n      &lt;td&gt;0.000000&lt;/td&gt;\\n      &lt;td&gt;6926.313&lt;/td&gt;\\n    &lt;/tr&gt;\\n    &lt;tr&gt;\\n      &lt;th&gt;14&lt;/th&gt;\\n      &lt;td&gt;Nigeria&lt;/td&gt;\\n      &lt;td&gt;1970&lt;/td&gt;\\n      &lt;td&gt;1744.513729&lt;/td&gt;\\n      &lt;td&gt;0.000&lt;/td&gt;\\n    &lt;/tr&gt;\\n    &lt;tr&gt;\\n      &lt;th&gt;15&lt;/th&gt;\\n      &lt;td&gt;Peru&lt;/td&gt;\\n      &lt;td&gt;1970&lt;/td&gt;\\n      &lt;td&gt;5975.604716&lt;/td&gt;\\n      &lt;td&gt;1.011&lt;/td&gt;\\n    &lt;/tr&gt;\\n    &lt;tr&gt;\\n      &lt;th&gt;16&lt;/th&gt;\\n      &lt;td&gt;Niger&lt;/td&gt;\\n      &lt;td&gt;1970&lt;/td&gt;\\n      &lt;td&gt;1385.900578&lt;/td&gt;\\n      &lt;td&gt;0.000&lt;/td&gt;\\n    &lt;/tr&gt;\\n    &lt;tr&gt;\\n      &lt;th&gt;17&lt;/th&gt;\\n      &lt;td&gt;Netherlands&lt;/td&gt;\\n      &lt;td&gt;1970&lt;/td&gt;\\n      &lt;td&gt;19067.171443&lt;/td&gt;\\n      &lt;td&gt;53.333&lt;/td&gt;\\n    &lt;/tr&gt;\\n    &lt;tr&gt;\\n      &lt;th&gt;18&lt;/th&gt;\\n      &lt;td&gt;Nepal&lt;/td&gt;\\n      &lt;td&gt;1970&lt;/td&gt;\\n      &lt;td&gt;1005.859948&lt;/td&gt;\\n      &lt;td&gt;0.000&lt;/td&gt;\\n    &lt;/tr&gt;\\n    &lt;tr&gt;\\n      &lt;th&gt;19&lt;/th&gt;\\n      &lt;td&gt;Myanmar&lt;/td&gt;\\n      &lt;td&gt;1970&lt;/td&gt;\\n      &lt;td&gt;1027.081445&lt;/td&gt;\\n      &lt;td&gt;0.000&lt;/td&gt;\\n    &lt;/tr&gt;\\n    &lt;tr&gt;\\n      &lt;th&gt;20&lt;/th&gt;\\n      &lt;td&gt;Mozambique&lt;/td&gt;\\n      &lt;td&gt;1970&lt;/td&gt;\\n      &lt;td&gt;3072.817819&lt;/td&gt;\\n      &lt;td&gt;0.000&lt;/td&gt;\\n    &lt;/tr&gt;\\n    &lt;tr&gt;\\n      &lt;th&gt;21&lt;/th&gt;\\n      &lt;td&gt;Morocco&lt;/td&gt;\\n      &lt;td&gt;1970&lt;/td&gt;\\n      &lt;td&gt;2683.077948&lt;/td&gt;\\n      &lt;td&gt;3.323&lt;/td&gt;\\n    &lt;/tr&gt;\\n    &lt;tr&gt;\\n      &lt;th&gt;22&lt;/th&gt;\\n      &lt;td&gt;Mongolia&lt;/td&gt;\\n      &lt;td&gt;1970&lt;/td&gt;\\n      &lt;td&gt;1182.522403&lt;/td&gt;\\n      &lt;td&gt;0.000&lt;/td&gt;\\n    &lt;/tr&gt;\\n    &lt;tr&gt;\\n      &lt;th&gt;23&lt;/th&gt;\\n      &lt;td&gt;Middle East (Shift)&lt;/td&gt;\\n      &lt;td&gt;1970&lt;/td&gt;\\n      &lt;td&gt;0.000000&lt;/td&gt;\\n      &lt;td&gt;0.000&lt;/td&gt;\\n    &lt;/tr&gt;\\n    &lt;tr&gt;\\n      &lt;th&gt;24&lt;/th&gt;\\n      &lt;td&gt;Middle East (EI)&lt;/td&gt;\\n      &lt;td&gt;1970&lt;/td&gt;\\n      &lt;td&gt;0.000000&lt;/td&gt;\\n      &lt;td&gt;4.072&lt;/td&gt;\\n    &lt;/tr&gt;\\n    &lt;tr&gt;\\n      &lt;th&gt;25&lt;/th&gt;\\n      &lt;td&gt;Middle Africa (EI)&lt;/td&gt;\\n      &lt;td&gt;1970&lt;/td&gt;\\n      &lt;td&gt;0.000000&lt;/td&gt;\\n      &lt;td&gt;2.494&lt;/td&gt;\\n    &lt;/tr&gt;\\n    &lt;tr&gt;\\n      &lt;th&gt;26&lt;/th&gt;\\n      &lt;td&gt;Mexico&lt;/td&gt;\\n      &lt;td&gt;1970&lt;/td&gt;\\n      &lt;td&gt;7212.739951&lt;/td&gt;\\n      &lt;td&gt;12.512&lt;/td&gt;\\n    &lt;/tr&gt;\\n    &lt;tr&gt;\\n      &lt;th&gt;27&lt;/th&gt;\\n      &lt;td&gt;Malaysia&lt;/td&gt;\\n      &lt;td&gt;1970&lt;/td&gt;\\n      &lt;td&gt;3508.118701&lt;/td&gt;\\n      &lt;td&gt;0.186&lt;/td&gt;\\n    &lt;/tr&gt;\\n    &lt;tr&gt;\\n      &lt;th&gt;28&lt;/th&gt;\\n      &lt;td&gt;Madagascar&lt;/td&gt;\\n      &lt;td&gt;1970&lt;/td&gt;\\n      &lt;td&gt;1991.049114&lt;/td&gt;\\n      &lt;td&gt;0.000&lt;/td&gt;\\n    &lt;/tr&gt;\\n    &lt;tr&gt;\\n      &lt;th&gt;29&lt;/th&gt;\\n      &lt;td&gt;Luxembourg&lt;/td&gt;\\n      &lt;td&gt;1970&lt;/td&gt;\\n      &lt;td&gt;20751.986704&lt;/td&gt;\\n      &lt;td&gt;31.330&lt;/td&gt;\\n    &lt;/tr&gt;\\n    &lt;tr&gt;\\n      &lt;th&gt;30&lt;/th&gt;\\n      &lt;td&gt;Lower-middle-income countries&lt;/td&gt;\\n      &lt;td&gt;1970&lt;/td&gt;\\n      &lt;td&gt;0.000000&lt;/td&gt;\\n      &lt;td&gt;477.317&lt;/td&gt;\\n    &lt;/tr&gt;\\n    &lt;tr&gt;\\n      &lt;th&gt;31&lt;/th&gt;\\n      &lt;td&gt;New Zealand&lt;/td&gt;\\n      &lt;td&gt;1970&lt;/td&gt;\\n      &lt;td&gt;17860.147481&lt;/td&gt;\\n      &lt;td&gt;16.410&lt;/td&gt;\\n    &lt;/tr&gt;\\n    &lt;tr&gt;\\n      &lt;th&gt;32&lt;/th&gt;\\n      &lt;td&gt;Low-income countries&lt;/td&gt;\\n      &lt;td&gt;1970&lt;/td&gt;\\n      &lt;td&gt;0.000000&lt;/td&gt;\\n      &lt;td&gt;0.000&lt;/td&gt;\\n    &lt;/tr&gt;\\n    &lt;tr&gt;\\n      &lt;th&gt;33&lt;/th&gt;\\n      &lt;td&gt;Philippines&lt;/td&gt;\\n      &lt;td&gt;1970&lt;/td&gt;\\n      &lt;td&gt;2899.743229&lt;/td&gt;\\n      &lt;td&gt;0.228&lt;/td&gt;\\n    &lt;/tr&gt;\\n    &lt;tr&gt;\\n      &lt;th&gt;34&lt;/th&gt;\\n      &lt;td&gt;Portugal&lt;/td&gt;\\n      &lt;td&gt;1970&lt;/td&gt;\\n      &lt;td&gt;9086.249358&lt;/td&gt;\\n      &lt;td&gt;5.431&lt;/td&gt;\\n    &lt;/tr&gt;\\n    &lt;tr&gt;\\n      &lt;th&gt;35&lt;/th&gt;\\n      &lt;td&gt;Yugoslavia&lt;/td&gt;\\n      &lt;td&gt;1970&lt;/td&gt;\\n      &lt;td&gt;6288.000000&lt;/td&gt;\\n      &lt;td&gt;0.000&lt;/td&gt;\\n    &lt;/tr&gt;\\n    &lt;tr&gt;\\n      &lt;th&gt;36&lt;/th&gt;\\n      &lt;td&gt;Western Africa (EI)&lt;/td&gt;\\n      &lt;td&gt;1970&lt;/td&gt;\\n      &lt;td&gt;0.000000&lt;/td&gt;\\n      &lt;td&gt;0.927&lt;/td&gt;\\n    &lt;/tr&gt;\\n    &lt;tr&gt;\\n      &lt;th&gt;37&lt;/th&gt;\\n      &lt;td&gt;Vietnam&lt;/td&gt;\\n      &lt;td&gt;1970&lt;/td&gt;\\n      &lt;td&gt;1190.108158&lt;/td&gt;\\n      &lt;td&gt;15.175&lt;/td&gt;\\n    &lt;/tr&gt;\\n    &lt;tr&gt;\\n      &lt;th&gt;38&lt;/th&gt;\\n      &lt;td&gt;Venezuela&lt;/td&gt;\\n      &lt;td&gt;1970&lt;/td&gt;\\n      &lt;td&gt;14484.584269&lt;/td&gt;\\n      &lt;td&gt;0.279&lt;/td&gt;\\n    &lt;/tr&gt;\\n    &lt;tr&gt;\\n      &lt;th&gt;39&lt;/th&gt;\\n      &lt;td&gt;Upper-middle-income countries&lt;/td&gt;\\n      &lt;td&gt;1970&lt;/td&gt;\\n      &lt;td&gt;0.000000&lt;/td&gt;\\n      &lt;td&gt;6107.107&lt;/td&gt;\\n    &lt;/tr&gt;\\n    &lt;tr&gt;\\n      &lt;th&gt;40&lt;/th&gt;\\n      &lt;td&gt;United States&lt;/td&gt;\\n      &lt;td&gt;1970&lt;/td&gt;\\n      &lt;td&gt;24522.919750&lt;/td&gt;\\n      &lt;td&gt;3414.659&lt;/td&gt;\\n    &lt;/tr&gt;\\n    &lt;tr&gt;\\n      &lt;th&gt;41&lt;/th&gt;\\n      &lt;td&gt;United Kingdom&lt;/td&gt;\\n      &lt;td&gt;1970&lt;/td&gt;\\n      &lt;td&gt;17156.399305&lt;/td&gt;\\n      &lt;td&gt;1116.759&lt;/td&gt;\\n    &lt;/tr&gt;\\n    &lt;tr&gt;\\n      &lt;th&gt;42&lt;/th&gt;\\n      &lt;td&gt;United Arab Emirates&lt;/td&gt;\\n      &lt;td&gt;1970&lt;/td&gt;\\n      &lt;td&gt;32737.963180&lt;/td&gt;\\n      &lt;td&gt;0.000&lt;/td&gt;\\n    &lt;/tr&gt;\\n    &lt;tr&gt;\\n      &lt;th&gt;43&lt;/th&gt;\\n      &lt;td&gt;Ukraine&lt;/td&gt;\\n      &lt;td&gt;1970&lt;/td&gt;\\n      &lt;td&gt;0.000000&lt;/td&gt;\\n      &lt;td&gt;0.000&lt;/td&gt;\\n    &lt;/tr&gt;\\n    &lt;tr&gt;\\n      &lt;th&gt;44&lt;/th&gt;\\n      &lt;td&gt;USSR&lt;/td&gt;\\n      &lt;td&gt;1970&lt;/td&gt;\\n      &lt;td&gt;8885.193595&lt;/td&gt;\\n      &lt;td&gt;3630.394&lt;/td&gt;\\n    &lt;/tr&gt;\\n    &lt;tr&gt;\\n      &lt;th&gt;45&lt;/th&gt;\\n      &lt;td&gt;Turkey&lt;/td&gt;\\n      &lt;td&gt;1970&lt;/td&gt;\\n      &lt;td&gt;4424.901270&lt;/td&gt;\\n      &lt;td&gt;53.847&lt;/td&gt;\\n    &lt;/tr&gt;\\n    &lt;tr&gt;\\n      &lt;th&gt;46&lt;/th&gt;\\n      &lt;td&gt;Tunisia&lt;/td&gt;\\n      &lt;td&gt;1970&lt;/td&gt;\\n      &lt;td&gt;2941.552776&lt;/td&gt;\\n      &lt;td&gt;0.000&lt;/td&gt;\\n    &lt;/tr&gt;\\n    &lt;tr&gt;\\n      &lt;th&gt;47&lt;/th&gt;\\n      &lt;td&gt;Trinidad and Tobago&lt;/td&gt;\\n      &lt;td&gt;1970&lt;/td&gt;\\n      &lt;td&gt;12690.493626&lt;/td&gt;\\n      &lt;td&gt;0.000&lt;/td&gt;\\n    &lt;/tr&gt;\\n    &lt;tr&gt;\\n      &lt;th&gt;48&lt;/th&gt;\\n      &lt;td&gt;Thailand&lt;/td&gt;\\n      &lt;td&gt;1970&lt;/td&gt;\\n      &lt;td&gt;2798.002617&lt;/td&gt;\\n      &lt;td&gt;1.686&lt;/td&gt;\\n    &lt;/tr&gt;\\n    &lt;tr&gt;\\n      &lt;th&gt;49&lt;/th&gt;\\n      &lt;td&gt;Poland&lt;/td&gt;\\n      &lt;td&gt;1970&lt;/td&gt;\\n      &lt;td&gt;7067.355036&lt;/td&gt;\\n      &lt;td&gt;816.193&lt;/td&gt;\\n    &lt;/tr&gt;\\n    &lt;tr&gt;\\n      &lt;th&gt;...&lt;/th&gt;\\n      &lt;td&gt;...&lt;/td&gt;\\n      &lt;td&gt;...&lt;/td&gt;\\n      &lt;td&gt;...&lt;/td&gt;\\n      &lt;td&gt;...&lt;/td&gt;\\n    &lt;/tr&gt;\\n    &lt;tr&gt;\\n      &lt;th&gt;85&lt;/th&gt;\\n      &lt;td&gt;Belgium&lt;/td&gt;\\n      &lt;td&gt;1970&lt;/td&gt;\\n      &lt;td&gt;16928.797347&lt;/td&gt;\\n      &lt;td&gt;189.134&lt;/td&gt;\\n    &lt;/tr&gt;\\n    &lt;tr&gt;\\n      &lt;th&gt;86&lt;/th&gt;\\n      &lt;td&gt;Barbados&lt;/td&gt;\\n      &lt;td&gt;1970&lt;/td&gt;\\n      &lt;td&gt;10095.537237&lt;/td&gt;\\n      &lt;td&gt;0.000&lt;/td&gt;\\n    &lt;/tr&gt;\\n    &lt;tr&gt;\\n      &lt;th&gt;87&lt;/th&gt;\\n      &lt;td&gt;Bangladesh&lt;/td&gt;\\n      &lt;td&gt;1970&lt;/td&gt;\\n      &lt;td&gt;1000.870731&lt;/td&gt;\\n      &lt;td&gt;0.000&lt;/td&gt;\\n    &lt;/tr&gt;\\n    &lt;tr&gt;\\n      &lt;th&gt;88&lt;/th&gt;\\n      &lt;td&gt;Bahrain&lt;/td&gt;\\n      &lt;td&gt;1970&lt;/td&gt;\\n      &lt;td&gt;5955.962205&lt;/td&gt;\\n      &lt;td&gt;0.000&lt;/td&gt;\\n    &lt;/tr&gt;\\n    &lt;tr&gt;\\n      &lt;th&gt;89&lt;/th&gt;\\n      &lt;td&gt;Austria&lt;/td&gt;\\n      &lt;td&gt;1970&lt;/td&gt;\\n      &lt;td&gt;15540.695780&lt;/td&gt;\\n      &lt;td&gt;55.854&lt;/td&gt;\\n    &lt;/tr&gt;\\n    &lt;tr&gt;\\n      &lt;th&gt;90&lt;/th&gt;\\n      &lt;td&gt;Australia&lt;/td&gt;\\n      &lt;td&gt;1970&lt;/td&gt;\\n      &lt;td&gt;19265.097219&lt;/td&gt;\\n      &lt;td&gt;231.694&lt;/td&gt;\\n    &lt;/tr&gt;\\n    &lt;tr&gt;\\n      &lt;th&gt;91&lt;/th&gt;\\n      &lt;td&gt;Asia and Oceania (Shift)&lt;/td&gt;\\n      &lt;td&gt;1970&lt;/td&gt;\\n      &lt;td&gt;0.000000&lt;/td&gt;\\n      &lt;td&gt;0.000&lt;/td&gt;\\n    &lt;/tr&gt;\\n    &lt;tr&gt;\\n      &lt;th&gt;92&lt;/th&gt;\\n      &lt;td&gt;Asia Pacific (EI)&lt;/td&gt;\\n      &lt;td&gt;1970&lt;/td&gt;\\n      &lt;td&gt;0.000000&lt;/td&gt;\\n      &lt;td&gt;3631.138&lt;/td&gt;\\n    &lt;/tr&gt;\\n    &lt;tr&gt;\\n      &lt;th&gt;93&lt;/th&gt;\\n      &lt;td&gt;Argentina&lt;/td&gt;\\n      &lt;td&gt;1970&lt;/td&gt;\\n      &lt;td&gt;11697.338992&lt;/td&gt;\\n      &lt;td&gt;11.723&lt;/td&gt;\\n    &lt;/tr&gt;\\n    &lt;tr&gt;\\n      &lt;th&gt;94&lt;/th&gt;\\n      &lt;td&gt;Angola&lt;/td&gt;\\n      &lt;td&gt;1970&lt;/td&gt;\\n      &lt;td&gt;2619.806763&lt;/td&gt;\\n      &lt;td&gt;0.000&lt;/td&gt;\\n    &lt;/tr&gt;\\n    &lt;tr&gt;\\n      &lt;th&gt;95&lt;/th&gt;\\n      &lt;td&gt;Algeria&lt;/td&gt;\\n      &lt;td&gt;1970&lt;/td&gt;\\n      &lt;td&gt;3620.323091&lt;/td&gt;\\n      &lt;td&gt;0.965&lt;/td&gt;\\n    &lt;/tr&gt;\\n    &lt;tr&gt;\\n      &lt;th&gt;96&lt;/th&gt;\\n      &lt;td&gt;Albania&lt;/td&gt;\\n      &lt;td&gt;1970&lt;/td&gt;\\n      &lt;td&gt;2963.014946&lt;/td&gt;\\n      &lt;td&gt;0.000&lt;/td&gt;\\n    &lt;/tr&gt;\\n    &lt;tr&gt;\\n      &lt;th&gt;97&lt;/th&gt;\\n      &lt;td&gt;Africa (Shift)&lt;/td&gt;\\n      &lt;td&gt;1970&lt;/td&gt;\\n      &lt;td&gt;0.000000&lt;/td&gt;\\n      &lt;td&gt;0.000&lt;/td&gt;\\n    &lt;/tr&gt;\\n    &lt;tr&gt;\\n      &lt;th&gt;98&lt;/th&gt;\\n      &lt;td&gt;Africa (EI)&lt;/td&gt;\\n      &lt;td&gt;1970&lt;/td&gt;\\n      &lt;td&gt;0.000000&lt;/td&gt;\\n      &lt;td&gt;360.757&lt;/td&gt;\\n    &lt;/tr&gt;\\n    &lt;tr&gt;\\n      &lt;th&gt;99&lt;/th&gt;\\n      &lt;td&gt;Bolivia&lt;/td&gt;\\n      &lt;td&gt;1970&lt;/td&gt;\\n      &lt;td&gt;3287.838943&lt;/td&gt;\\n      &lt;td&gt;0.000&lt;/td&gt;\\n    &lt;/tr&gt;\\n    &lt;tr&gt;\\n      &lt;th&gt;100&lt;/th&gt;\\n      &lt;td&gt;Kuwait&lt;/td&gt;\\n      &lt;td&gt;1970&lt;/td&gt;\\n      &lt;td&gt;45557.347245&lt;/td&gt;\\n      &lt;td&gt;0.000&lt;/td&gt;\\n    &lt;/tr&gt;\\n    &lt;tr&gt;\\n      &lt;th&gt;101&lt;/th&gt;\\n      &lt;td&gt;Cyprus&lt;/td&gt;\\n      &lt;td&gt;1970&lt;/td&gt;\\n      &lt;td&gt;6320.519048&lt;/td&gt;\\n      &lt;td&gt;0.000&lt;/td&gt;\\n    &lt;/tr&gt;\\n    &lt;tr&gt;\\n      &lt;th&gt;102&lt;/th&gt;\\n      &lt;td&gt;Czechoslovakia&lt;/td&gt;\\n      &lt;td&gt;1970&lt;/td&gt;\\n      &lt;td&gt;10306.279687&lt;/td&gt;\\n      &lt;td&gt;0.000&lt;/td&gt;\\n    &lt;/tr&gt;\\n    &lt;tr&gt;\\n      &lt;th&gt;103&lt;/th&gt;\\n      &lt;td&gt;Italy&lt;/td&gt;\\n      &lt;td&gt;1970&lt;/td&gt;\\n      &lt;td&gt;15589.925291&lt;/td&gt;\\n      &lt;td&gt;114.788&lt;/td&gt;\\n    &lt;/tr&gt;\\n    &lt;tr&gt;\\n      &lt;th&gt;104&lt;/th&gt;\\n      &lt;td&gt;Israel&lt;/td&gt;\\n      &lt;td&gt;1970&lt;/td&gt;\\n      &lt;td&gt;12895.766944&lt;/td&gt;\\n      &lt;td&gt;0.000&lt;/td&gt;\\n    &lt;/tr&gt;\\n    &lt;tr&gt;\\n      &lt;th&gt;105&lt;/th&gt;\\n      &lt;td&gt;Ireland&lt;/td&gt;\\n      &lt;td&gt;1970&lt;/td&gt;\\n      &lt;td&gt;9922.886468&lt;/td&gt;\\n      &lt;td&gt;25.004&lt;/td&gt;\\n    &lt;/tr&gt;\\n    &lt;tr&gt;\\n      &lt;th&gt;106&lt;/th&gt;\\n      &lt;td&gt;Iraq&lt;/td&gt;\\n      &lt;td&gt;1970&lt;/td&gt;\\n      &lt;td&gt;5311.608695&lt;/td&gt;\\n      &lt;td&gt;0.000&lt;/td&gt;\\n    &lt;/tr&gt;\\n    &lt;tr&gt;\\n      &lt;th&gt;107&lt;/th&gt;\\n      &lt;td&gt;Iran&lt;/td&gt;\\n      &lt;td&gt;1970&lt;/td&gt;\\n      &lt;td&gt;6771.930000&lt;/td&gt;\\n      &lt;td&gt;3.989&lt;/td&gt;\\n    &lt;/tr&gt;\\n    &lt;tr&gt;\\n      &lt;th&gt;108&lt;/th&gt;\\n      &lt;td&gt;Indonesia&lt;/td&gt;\\n      &lt;td&gt;1970&lt;/td&gt;\\n      &lt;td&gt;1916.459797&lt;/td&gt;\\n      &lt;td&gt;1.012&lt;/td&gt;\\n    &lt;/tr&gt;\\n    &lt;tr&gt;\\n      &lt;th&gt;109&lt;/th&gt;\\n      &lt;td&gt;India&lt;/td&gt;\\n      &lt;td&gt;1970&lt;/td&gt;\\n      &lt;td&gt;1343.035433&lt;/td&gt;\\n      &lt;td&gt;436.809&lt;/td&gt;\\n    &lt;/tr&gt;\\n    &lt;tr&gt;\\n      &lt;th&gt;110&lt;/th&gt;\\n      &lt;td&gt;Iceland&lt;/td&gt;\\n      &lt;td&gt;1970&lt;/td&gt;\\n      &lt;td&gt;14802.513343&lt;/td&gt;\\n      &lt;td&gt;0.016&lt;/td&gt;\\n    &lt;/tr&gt;\\n    &lt;tr&gt;\\n      &lt;th&gt;111&lt;/th&gt;\\n      &lt;td&gt;Hungary&lt;/td&gt;\\n      &lt;td&gt;1970&lt;/td&gt;\\n      &lt;td&gt;8031.811795&lt;/td&gt;\\n      &lt;td&gt;107.473&lt;/td&gt;\\n    &lt;/tr&gt;\\n    &lt;tr&gt;\\n      &lt;th&gt;112&lt;/th&gt;\\n      &lt;td&gt;Hong Kong&lt;/td&gt;\\n      &lt;td&gt;1970&lt;/td&gt;\\n      &lt;td&gt;8938.906523&lt;/td&gt;\\n      &lt;td&gt;0.244&lt;/td&gt;\\n    &lt;/tr&gt;\\n    &lt;tr&gt;\\n      &lt;th&gt;113&lt;/th&gt;\\n      &lt;td&gt;High-income countries&lt;/td&gt;\\n      &lt;td&gt;1970&lt;/td&gt;\\n      &lt;td&gt;0.000000&lt;/td&gt;\\n      &lt;td&gt;10155.094&lt;/td&gt;\\n    &lt;/tr&gt;\\n    &lt;tr&gt;\\n      &lt;th&gt;114&lt;/th&gt;\\n      &lt;td&gt;Guatemala&lt;/td&gt;\\n      &lt;td&gt;1970&lt;/td&gt;\\n      &lt;td&gt;4491.558153&lt;/td&gt;\\n      &lt;td&gt;0.000&lt;/td&gt;\\n    &lt;/tr&gt;\\n    &lt;tr&gt;\\n      &lt;th&gt;115&lt;/th&gt;\\n      &lt;td&gt;Greenland&lt;/td&gt;\\n      &lt;td&gt;1970&lt;/td&gt;\\n      &lt;td&gt;0.000000&lt;/td&gt;\\n      &lt;td&gt;0.000&lt;/td&gt;\\n    &lt;/tr&gt;\\n    &lt;tr&gt;\\n      &lt;th&gt;116&lt;/th&gt;\\n      &lt;td&gt;Greece&lt;/td&gt;\\n      &lt;td&gt;1970&lt;/td&gt;\\n      &lt;td&gt;10187.251658&lt;/td&gt;\\n      &lt;td&gt;29.401&lt;/td&gt;\\n    &lt;/tr&gt;\\n    &lt;tr&gt;\\n      &lt;th&gt;117&lt;/th&gt;\\n      &lt;td&gt;Czechia&lt;/td&gt;\\n      &lt;td&gt;1970&lt;/td&gt;\\n      &lt;td&gt;8747.532296&lt;/td&gt;\\n      &lt;td&gt;431.473&lt;/td&gt;\\n    &lt;/tr&gt;\\n    &lt;tr&gt;\\n      &lt;th&gt;118&lt;/th&gt;\\n      &lt;td&gt;Ghana&lt;/td&gt;\\n      &lt;td&gt;1970&lt;/td&gt;\\n      &lt;td&gt;2251.313161&lt;/td&gt;\\n      &lt;td&gt;0.000&lt;/td&gt;\\n    &lt;/tr&gt;\\n    &lt;tr&gt;\\n      &lt;th&gt;119&lt;/th&gt;\\n      &lt;td&gt;Gabon&lt;/td&gt;\\n      &lt;td&gt;1970&lt;/td&gt;\\n      &lt;td&gt;4814.118341&lt;/td&gt;\\n      &lt;td&gt;0.000&lt;/td&gt;\\n    &lt;/tr&gt;\\n    &lt;tr&gt;\\n      &lt;th&gt;120&lt;/th&gt;\\n      &lt;td&gt;France&lt;/td&gt;\\n      &lt;td&gt;1970&lt;/td&gt;\\n      &lt;td&gt;18688.947052&lt;/td&gt;\\n      &lt;td&gt;403.171&lt;/td&gt;\\n    &lt;/tr&gt;\\n    &lt;tr&gt;\\n      &lt;th&gt;121&lt;/th&gt;\\n      &lt;td&gt;Finland&lt;/td&gt;\\n      &lt;td&gt;1970&lt;/td&gt;\\n      &lt;td&gt;15264.959336&lt;/td&gt;\\n      &lt;td&gt;26.567&lt;/td&gt;\\n    &lt;/tr&gt;\\n    &lt;tr&gt;\\n      &lt;th&gt;122&lt;/th&gt;\\n      &lt;td&gt;European Union (27)&lt;/td&gt;\\n      &lt;td&gt;1970&lt;/td&gt;\\n      &lt;td&gt;0.000000&lt;/td&gt;\\n      &lt;td&gt;4439.798&lt;/td&gt;\\n    &lt;/tr&gt;\\n    &lt;tr&gt;\\n      &lt;th&gt;123&lt;/th&gt;\\n      &lt;td&gt;Europe (Shift)&lt;/td&gt;\\n      &lt;td&gt;1970&lt;/td&gt;\\n      &lt;td&gt;0.000000&lt;/td&gt;\\n      &lt;td&gt;0.000&lt;/td&gt;\\n    &lt;/tr&gt;\\n    &lt;tr&gt;\\n      &lt;th&gt;124&lt;/th&gt;\\n      &lt;td&gt;Europe (EI)&lt;/td&gt;\\n      &lt;td&gt;1970&lt;/td&gt;\\n      &lt;td&gt;0.000000&lt;/td&gt;\\n      &lt;td&gt;5725.027&lt;/td&gt;\\n    &lt;/tr&gt;\\n    &lt;tr&gt;\\n      &lt;th&gt;125&lt;/th&gt;\\n      &lt;td&gt;Eurasia (Shift)&lt;/td&gt;\\n      &lt;td&gt;1970&lt;/td&gt;\\n      &lt;td&gt;0.000000&lt;/td&gt;\\n      &lt;td&gt;0.000&lt;/td&gt;\\n    &lt;/tr&gt;\\n    &lt;tr&gt;\\n      &lt;th&gt;126&lt;/th&gt;\\n      &lt;td&gt;Eswatini&lt;/td&gt;\\n      &lt;td&gt;1970&lt;/td&gt;\\n      &lt;td&gt;1751.213898&lt;/td&gt;\\n      &lt;td&gt;0.000&lt;/td&gt;\\n    &lt;/tr&gt;\\n    &lt;tr&gt;\\n      &lt;th&gt;127&lt;/th&gt;\\n      &lt;td&gt;Egypt&lt;/td&gt;\\n      &lt;td&gt;1970&lt;/td&gt;\\n      &lt;td&gt;1929.575500&lt;/td&gt;\\n      &lt;td&gt;5.082&lt;/td&gt;\\n    &lt;/tr&gt;\\n    &lt;tr&gt;\\n      &lt;th&gt;128&lt;/th&gt;\\n      &lt;td&gt;Ecuador&lt;/td&gt;\\n      &lt;td&gt;1970&lt;/td&gt;\\n      &lt;td&gt;4363.824566&lt;/td&gt;\\n      &lt;td&gt;0.000&lt;/td&gt;\\n    &lt;/tr&gt;\\n    &lt;tr&gt;\\n      &lt;th&gt;129&lt;/th&gt;\\n      &lt;td&gt;Eastern Africa (EI)&lt;/td&gt;\\n      &lt;td&gt;1970&lt;/td&gt;\\n      &lt;td&gt;0.000000&lt;/td&gt;\\n      &lt;td&gt;28.673&lt;/td&gt;\\n    &lt;/tr&gt;\\n    &lt;tr&gt;\\n      &lt;th&gt;130&lt;/th&gt;\\n      &lt;td&gt;EU28 (Shift)&lt;/td&gt;\\n      &lt;td&gt;1970&lt;/td&gt;\\n      &lt;td&gt;0.000000&lt;/td&gt;\\n      &lt;td&gt;0.000&lt;/td&gt;\\n    &lt;/tr&gt;\\n    &lt;tr&gt;\\n      &lt;th&gt;131&lt;/th&gt;\\n      &lt;td&gt;Denmark&lt;/td&gt;\\n      &lt;td&gt;1970&lt;/td&gt;\\n      &lt;td&gt;20244.778412&lt;/td&gt;\\n      &lt;td&gt;27.319&lt;/td&gt;\\n    &lt;/tr&gt;\\n    &lt;tr&gt;\\n      &lt;th&gt;132&lt;/th&gt;\\n      &lt;td&gt;Democratic Republic of Congo&lt;/td&gt;\\n      &lt;td&gt;1970&lt;/td&gt;\\n      &lt;td&gt;1322.957050&lt;/td&gt;\\n      &lt;td&gt;0.000&lt;/td&gt;\\n    &lt;/tr&gt;\\n    &lt;tr&gt;\\n      &lt;th&gt;133&lt;/th&gt;\\n      &lt;td&gt;Germany&lt;/td&gt;\\n      &lt;td&gt;1970&lt;/td&gt;\\n      &lt;td&gt;17164.144877&lt;/td&gt;\\n      &lt;td&gt;1733.998&lt;/td&gt;\\n    &lt;/tr&gt;\\n    &lt;tr&gt;\\n      &lt;th&gt;134&lt;/th&gt;\\n      &lt;td&gt;Zimbabwe&lt;/td&gt;\\n      &lt;td&gt;1970&lt;/td&gt;\\n      &lt;td&gt;2165.359261&lt;/td&gt;\\n      &lt;td&gt;0.000&lt;/td&gt;\\n    &lt;/tr&gt;\\n  &lt;/tbody&gt;\\n&lt;/table&gt;\",\"disable_math\":true}}]}}]}}]}},{\"type\":\"object\",\"name\":\"panel.models.comm_manager.CommManager\",\"id\":\"64345ea8-fd81-4c41-86dc-3eef3cef2063\",\"attributes\":{\"plot_id\":\"90bfaf59-f489-48e8-8330-59c9cff628de\",\"comm_id\":\"78641ab60fb249ebb8714c46e8029396\",\"client_comm_id\":\"f3122d365c68423c89ca2f24083f49ea\"}}],\"defs\":[{\"type\":\"model\",\"name\":\"ReactiveHTML1\"},{\"type\":\"model\",\"name\":\"FlexBox1\",\"properties\":[{\"name\":\"align_content\",\"kind\":\"Any\",\"default\":\"flex-start\"},{\"name\":\"align_items\",\"kind\":\"Any\",\"default\":\"flex-start\"},{\"name\":\"flex_direction\",\"kind\":\"Any\",\"default\":\"row\"},{\"name\":\"flex_wrap\",\"kind\":\"Any\",\"default\":\"wrap\"},{\"name\":\"justify_content\",\"kind\":\"Any\",\"default\":\"flex-start\"}]},{\"type\":\"model\",\"name\":\"FloatPanel1\",\"properties\":[{\"name\":\"config\",\"kind\":\"Any\",\"default\":{\"type\":\"map\"}},{\"name\":\"contained\",\"kind\":\"Any\",\"default\":true},{\"name\":\"position\",\"kind\":\"Any\",\"default\":\"right-top\"},{\"name\":\"offsetx\",\"kind\":\"Any\",\"default\":null},{\"name\":\"offsety\",\"kind\":\"Any\",\"default\":null},{\"name\":\"theme\",\"kind\":\"Any\",\"default\":\"primary\"},{\"name\":\"status\",\"kind\":\"Any\",\"default\":\"normalized\"}]},{\"type\":\"model\",\"name\":\"GridStack1\",\"properties\":[{\"name\":\"mode\",\"kind\":\"Any\",\"default\":\"warn\"},{\"name\":\"ncols\",\"kind\":\"Any\",\"default\":null},{\"name\":\"nrows\",\"kind\":\"Any\",\"default\":null},{\"name\":\"allow_resize\",\"kind\":\"Any\",\"default\":true},{\"name\":\"allow_drag\",\"kind\":\"Any\",\"default\":true},{\"name\":\"state\",\"kind\":\"Any\",\"default\":[]}]},{\"type\":\"model\",\"name\":\"drag1\",\"properties\":[{\"name\":\"slider_width\",\"kind\":\"Any\",\"default\":5},{\"name\":\"slider_color\",\"kind\":\"Any\",\"default\":\"black\"},{\"name\":\"value\",\"kind\":\"Any\",\"default\":50}]},{\"type\":\"model\",\"name\":\"click1\",\"properties\":[{\"name\":\"terminal_output\",\"kind\":\"Any\",\"default\":\"\"},{\"name\":\"debug_name\",\"kind\":\"Any\",\"default\":\"\"},{\"name\":\"clears\",\"kind\":\"Any\",\"default\":0}]},{\"type\":\"model\",\"name\":\"FastWrapper1\",\"properties\":[{\"name\":\"object\",\"kind\":\"Any\",\"default\":null},{\"name\":\"style\",\"kind\":\"Any\",\"default\":null}]},{\"type\":\"model\",\"name\":\"NotificationAreaBase1\",\"properties\":[{\"name\":\"js_events\",\"kind\":\"Any\",\"default\":{\"type\":\"map\"}},{\"name\":\"position\",\"kind\":\"Any\",\"default\":\"bottom-right\"},{\"name\":\"_clear\",\"kind\":\"Any\",\"default\":0}]},{\"type\":\"model\",\"name\":\"NotificationArea1\",\"properties\":[{\"name\":\"js_events\",\"kind\":\"Any\",\"default\":{\"type\":\"map\"}},{\"name\":\"notifications\",\"kind\":\"Any\",\"default\":[]},{\"name\":\"position\",\"kind\":\"Any\",\"default\":\"bottom-right\"},{\"name\":\"_clear\",\"kind\":\"Any\",\"default\":0},{\"name\":\"types\",\"kind\":\"Any\",\"default\":[{\"type\":\"map\",\"entries\":[[\"type\",\"warning\"],[\"background\",\"#ffc107\"],[\"icon\",{\"type\":\"map\",\"entries\":[[\"className\",\"fas fa-exclamation-triangle\"],[\"tagName\",\"i\"],[\"color\",\"white\"]]}]]},{\"type\":\"map\",\"entries\":[[\"type\",\"info\"],[\"background\",\"#007bff\"],[\"icon\",{\"type\":\"map\",\"entries\":[[\"className\",\"fas fa-info-circle\"],[\"tagName\",\"i\"],[\"color\",\"white\"]]}]]}]}]},{\"type\":\"model\",\"name\":\"Notification\",\"properties\":[{\"name\":\"background\",\"kind\":\"Any\",\"default\":null},{\"name\":\"duration\",\"kind\":\"Any\",\"default\":3000},{\"name\":\"icon\",\"kind\":\"Any\",\"default\":null},{\"name\":\"message\",\"kind\":\"Any\",\"default\":\"\"},{\"name\":\"notification_type\",\"kind\":\"Any\",\"default\":null},{\"name\":\"_destroyed\",\"kind\":\"Any\",\"default\":false}]},{\"type\":\"model\",\"name\":\"TemplateActions1\",\"properties\":[{\"name\":\"open_modal\",\"kind\":\"Any\",\"default\":0},{\"name\":\"close_modal\",\"kind\":\"Any\",\"default\":0}]},{\"type\":\"model\",\"name\":\"BootstrapTemplateActions1\",\"properties\":[{\"name\":\"open_modal\",\"kind\":\"Any\",\"default\":0},{\"name\":\"close_modal\",\"kind\":\"Any\",\"default\":0}]},{\"type\":\"model\",\"name\":\"MaterialTemplateActions1\",\"properties\":[{\"name\":\"open_modal\",\"kind\":\"Any\",\"default\":0},{\"name\":\"close_modal\",\"kind\":\"Any\",\"default\":0}]}]}};\n",
       "  var render_items = [{\"docid\":\"8fa96434-5a79-40ce-89ec-f140f25f1a25\",\"roots\":{\"90bfaf59-f489-48e8-8330-59c9cff628de\":\"c3952944-a59e-4ce7-ae18-f046b66ba4a1\"},\"root_ids\":[\"90bfaf59-f489-48e8-8330-59c9cff628de\"]}];\n",
       "  var docs = Object.values(docs_json)\n",
       "  if (!docs) {\n",
       "    return\n",
       "  }\n",
       "  const py_version = docs[0].version.replace('rc', '-rc.').replace('.dev', '-dev.')\n",
       "  const is_dev = py_version.indexOf(\"+\") !== -1 || py_version.indexOf(\"-\") !== -1\n",
       "  function embed_document(root) {\n",
       "    var Bokeh = get_bokeh(root)\n",
       "    Bokeh.embed.embed_items_notebook(docs_json, render_items);\n",
       "    for (const render_item of render_items) {\n",
       "      for (const root_id of render_item.root_ids) {\n",
       "\tconst id_el = document.getElementById(root_id)\n",
       "\tif (id_el.children.length && (id_el.children[0].className === 'bk-root')) {\n",
       "\t  const root_el = id_el.children[0]\n",
       "\t  root_el.id = root_el.id + '-rendered'\n",
       "\t}\n",
       "      }\n",
       "    }\n",
       "  }\n",
       "  function get_bokeh(root) {\n",
       "    if (root.Bokeh === undefined) {\n",
       "      return null\n",
       "    } else if (root.Bokeh.version !== py_version && !is_dev) {\n",
       "      if (root.Bokeh.versions === undefined || !root.Bokeh.versions.has(py_version)) {\n",
       "\treturn null\n",
       "      }\n",
       "      return root.Bokeh.versions.get(py_version);\n",
       "    } else if (root.Bokeh.version === py_version) {\n",
       "      return root.Bokeh\n",
       "    }\n",
       "    return null\n",
       "  }\n",
       "  function is_loaded(root) {\n",
       "    var Bokeh = get_bokeh(root)\n",
       "    return (Bokeh != null && Bokeh.Panel !== undefined && ( root['Tabulator'] !== undefined) && ( root['Tabulator'] !== undefined) && ( root['Tabulator'] !== undefined))\n",
       "  }\n",
       "  if (is_loaded(root)) {\n",
       "    embed_document(root);\n",
       "  } else {\n",
       "    var attempts = 0;\n",
       "    var timer = setInterval(function(root) {\n",
       "      if (is_loaded(root)) {\n",
       "        clearInterval(timer);\n",
       "        embed_document(root);\n",
       "      } else if (document.readyState == \"complete\") {\n",
       "        attempts++;\n",
       "        if (attempts > 200) {\n",
       "          clearInterval(timer);\n",
       "\t  var Bokeh = get_bokeh(root)\n",
       "\t  if (Bokeh == null || Bokeh.Panel == null) {\n",
       "            console.warn(\"Panel: ERROR: Unable to run Panel code because Bokeh or Panel library is missing\");\n",
       "\t  } else {\n",
       "\t    console.warn(\"Panel: WARNING: Attempting to render but not all required libraries could be resolved.\")\n",
       "\t    embed_document(root)\n",
       "\t  }\n",
       "        }\n",
       "      }\n",
       "    }, 25, root)\n",
       "  }\n",
       "})(window);</script>"
      ],
      "text/plain": [
       "<hvplot.interactive.Interactive at 0x24eb9e45240>"
      ]
     },
     "execution_count": 32,
     "metadata": {
      "application/vnd.holoviews_exec.v0+json": {
       "id": "90bfaf59-f489-48e8-8330-59c9cff628de"
      }
     },
     "output_type": "execute_result"
    }
   ],
   "source": [
    "coal_gdp_pipeline"
   ]
  },
  {
   "cell_type": "code",
   "execution_count": null,
   "id": "acbf474d-71e4-41bd-87b5-d0689ae6a3bc",
   "metadata": {},
   "outputs": [],
   "source": [
    "coal_gdp_scatterplot = coal_gdp_pipeline.hvplot(x='gdp_per_capita', y='coal_consumption', by='country', size=80, kind=\"scatter\", alpha=0.7, legend=False, height=500, width=500, title='Coal Consumption vs GDP Per Capita by Country')\n",
    "coal_gdp_scatterplot"
   ]
  },
  {
   "cell_type": "markdown",
   "id": "59661403-79ba-4451-8320-02e2ab30f084",
   "metadata": {},
   "source": [
    "### (4) Bar chart with coal facts by continent"
   ]
  },
  {
   "cell_type": "code",
   "execution_count": 34,
   "id": "a2976564-d7f0-4948-8ebb-8d66faf65451",
   "metadata": {},
   "outputs": [],
   "source": [
    "# Create a separate widget for the chart\n",
    "yaxis_coal_facts = pn.widgets.RadioButtonGroup(\n",
    "    name='Y axis',\n",
    "    options=['coal_cons_change_pct', 'energy_cons_change_pct', 'coal_share_energy'],\n",
    "    button_type='success'\n",
    ")\n",
    "\n",
    "continents_excl = ['Asia', 'Oceania', 'Europe', 'Africa', 'North America', 'South America', 'Antarctica']\n",
    "coal_facts_bar_pipeline =  (\n",
    "    idf[\n",
    "        (idf.year == year_slider) & \n",
    "        (idf.country.isin(continents_excl))\n",
    "    ]\n",
    "    .groupby(['year', 'country'])[yaxis_coal_facts].sum()\n",
    "    .to_frame() # Convert result to df\n",
    "    .reset_index()\n",
    "    .sort_values(by='year')\n",
    "    .reset_index(drop=True) # Discard old index and assign default integer index\n",
    ")    "
   ]
  },
  {
   "cell_type": "code",
   "execution_count": null,
   "id": "49b86d9d-1f22-487a-9547-2c45359ad6d0",
   "metadata": {},
   "outputs": [],
   "source": [
    "coal_facts_bar_plot = coal_facts_bar_pipeline.hvplot(kind='bar', x='country', y=yaxis_coal_facts, title='Coal Facts by Continent')\n",
    "coal_facts_bar_plot"
   ]
  },
  {
   "cell_type": "markdown",
   "id": "8c6b5799-f3c3-485d-87b0-8b4eed84774d",
   "metadata": {},
   "source": [
    "### (5) Repeat the steps above for oil"
   ]
  },
  {
   "cell_type": "code",
   "execution_count": 36,
   "id": "8c601bc3-12d6-47a2-8f30-50ff4540b127",
   "metadata": {},
   "outputs": [],
   "source": [
    "# Radio buttons for gas measures\n",
    "df['oil_cons_per_capita'] = df['oil_consumption'] / df['population']\n",
    "yaxis_oil = pn.widgets.RadioButtonGroup(\n",
    "    name = 'Y axis',\n",
    "    options = ['oil_consumption', 'oil_cons_per_capita'],\n",
    "    button_type = 'success'\n",
    ")\n",
    "\n",
    "# Create a subset of idf based on specified conditions\n",
    "oil_pipeline = (\n",
    "    idf[\n",
    "        (idf.year >= year_slider) &  # Filter rows for year >= year_slider\n",
    "        (idf.country.isin(continents))\n",
    "    ]\n",
    "    .groupby(['country', 'year','oil_production'])[yaxis_oil].mean() # Average of yaxis_oil for each country over time (year)\n",
    "    .to_frame() # Convert result to df\n",
    "    .reset_index()\n",
    "    .sort_values(by='year')\n",
    "    .reset_index(drop=True) # Discard old index and assign default integer index\n",
    ")\n",
    "\n",
    "oil_plot = oil_pipeline.hvplot(x = 'year', by='country', y=yaxis_oil, line_width=2, title=\"Oil Consumption by Continent\")\n",
    "# oil_table = oil_pipeline.pipe(pn.widgets.Tabulator, pagination='remote', page_size = 10, sizing_mode='stretch_width')\n",
    "oil_heatmap = oil_pipeline.hvplot.heatmap(x='year', y='country', C='oil_production', cmap='Set3', title='Oil Production by Continent')\n",
    "\n",
    "# Create a subset of idf based on specified conditions\n",
    "oil_gdp_pipeline = (\n",
    "    idf[\n",
    "        (idf.year == year_slider) & \n",
    "        (~ (idf.country.isin(continents)))\n",
    "    ]\n",
    "    .groupby(['country', 'year', 'gdp_per_capita', 'oil_cons_per_capita'])['oil_consumption'].mean() # Average of coal_consumption for each country over time (year)\n",
    "    .to_frame() # Convert result to df\n",
    "    .reset_index()\n",
    "    .sort_values(by='year')\n",
    "    .reset_index(drop=True) # Discard old index and assign default integer index\n",
    ")\n",
    "\n",
    "oil_gdp_scatterplot = oil_gdp_pipeline.hvplot(x='gdp_per_capita', y='oil_consumption', by='country', size=80, kind=\"scatter\", alpha=0.7, legend=False, height=500, width=500,title='Oil Consumption vs GDP Per Capita by Country')\n",
    "# Create a separate widget for the chart\n",
    "yaxis_oil_facts = pn.widgets.RadioButtonGroup(\n",
    "    name='Y axis',\n",
    "    options=['oil_cons_change_pct', 'energy_cons_change_pct', 'oil_share_energy'],\n",
    "    button_type='success'\n",
    ")\n",
    "oil_facts_bar_pipeline =  (\n",
    "    idf[\n",
    "        (idf.year == year_slider) & \n",
    "        (idf.country.isin(continents_excl))\n",
    "    ]\n",
    "    .groupby(['year', 'country'])[yaxis_oil_facts].sum()\n",
    "    .to_frame() # Convert result to df\n",
    "    .reset_index()\n",
    "    .sort_values(by='year')\n",
    "    .reset_index(drop=True) # Discard old index and assign default integer index\n",
    ")\n",
    "oil_facts_bar_plot = oil_facts_bar_pipeline.hvplot(kind='bar', x='country', y=yaxis_oil_facts, title='Oil Facts by Continent')\n",
    "\n"
   ]
  },
  {
   "cell_type": "markdown",
   "id": "2e4f799a",
   "metadata": {},
   "source": [
    "### (5) Build the dashboard"
   ]
  },
  {
   "cell_type": "code",
   "execution_count": null,
   "id": "0f62edc9-2017-4d19-bcce-7dd5711d573d",
   "metadata": {},
   "outputs": [],
   "source": [
    "# Define your data and widgets here\n",
    "class PageCoal:\n",
    "    def __init__(self):\n",
    "        self.content = pn.Column(\n",
    "            \"# Coal\",\n",
    "            pn.Row(\n",
    "                pn.Column(yaxis_coal, coal_plot.panel(width=600), margin=(0, 25)),\n",
    "                pn.Column(coal_heatmap.panel(width=700))\n",
    "            ),\n",
    "            pn.Row(\n",
    "                pn.Column(coal_gdp_scatterplot.panel(width=600), margin=(0, 25)),\n",
    "                pn.Column(yaxis_coal_facts, coal_facts_bar_plot.panel(width=700))\n",
    "            )\n",
    "        )\n",
    "\n",
    "    def view(self):\n",
    "        return self.content\n",
    "\n",
    "class PageOil:\n",
    "    def __init__(self):\n",
    "        self.content = pn.Column(\n",
    "            \"# Oil\",\n",
    "            pn.Row(\n",
    "                pn.Column(yaxis_oil, oil_plot.panel(width=600), margin=(0, 25)),\n",
    "                pn.Column(oil_heatmap.panel(width=700))\n",
    "            ),\n",
    "            pn.Row(\n",
    "                pn.Column(oil_gdp_scatterplot.panel(width=600), margin=(0, 25)),\n",
    "                pn.Column(yaxis_oil_facts, oil_facts_bar_plot.panel(width=700))\n",
    "            )\n",
    "        )\n",
    "\n",
    "    def view(self):\n",
    "        return self.content\n",
    "\n",
    "pages = {\n",
    "    \"Coal\": PageCoal(),\n",
    "    \"Oil\": PageOil(),\n",
    "}\n",
    "\n",
    "# Function to show the selected page\n",
    "def show_page(page_instance):\n",
    "    main_area.clear()\n",
    "    main_area.append(page_instance.view())\n",
    "\n",
    "# Define buttons to navigate between pages\n",
    "page_coal_button = pn.widgets.Button(name=\"Coal\", button_type=\"primary\", width=250)\n",
    "page_oil_button = pn.widgets.Button(name=\"Oil\", button_type=\"primary\", width=250)\n",
    "\n",
    "# Set up button click callbacks\n",
    "page_coal_button.on_click(lambda event: show_page(pages[\"Coal\"]))\n",
    "page_oil_button.on_click(lambda event: show_page(pages[\"Oil\"]))\n",
    "\n",
    "# Create the main area and display the first page\n",
    "main_area = pn.Column(pages[\"Coal\"].view())\n",
    "\n",
    "# Create the Material Template and set the sidebar and main area\n",
    "template = FastListTemplate(\n",
    "    title=\"World Energy Dashboard\",\n",
    "    sidebar=[pn.pane.Markdown(\"#### This interactive panel provides insights into global energy trends and patterns over time. Select from the options below.\"),\n",
    "             page_coal_button, \n",
    "             page_oil_button, \n",
    "             pn.pane.Markdown(\"## Settings\"),\n",
    "             year_slider],\n",
    "    main=[main_area],\n",
    "    accent_base_color=\"#d88888\",\n",
    "    header_background=\"#d8b088\",\n",
    "    sidebar_width=320\n",
    ")\n",
    "\n",
    "# Serve the Panel app\n",
    "template.servable()\n"
   ]
  }
 ],
 "metadata": {
  "kernelspec": {
   "display_name": "Python 3 (ipykernel)",
   "language": "python",
   "name": "python3"
  },
  "language_info": {
   "codemirror_mode": {
    "name": "ipython",
    "version": 3
   },
   "file_extension": ".py",
   "mimetype": "text/x-python",
   "name": "python",
   "nbconvert_exporter": "python",
   "pygments_lexer": "ipython3",
   "version": "3.10.9"
  }
 },
 "nbformat": 4,
 "nbformat_minor": 5
}
